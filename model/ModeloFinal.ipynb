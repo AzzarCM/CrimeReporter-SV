{
  "nbformat": 4,
  "nbformat_minor": 0,
  "metadata": {
    "colab": {
      "name": "ModeloFinal.ipynb",
      "provenance": [],
      "collapsed_sections": []
    },
    "kernelspec": {
      "name": "python3",
      "display_name": "Python 3"
    },
    "language_info": {
      "name": "python"
    }
  },
  "cells": [
    {
      "cell_type": "markdown",
      "metadata": {
        "id": "3xvyJJchfpZm"
      },
      "source": [
        "# **Predicción de homicidios por municipio**"
      ]
    },
    {
      "cell_type": "code",
      "metadata": {
        "colab": {
          "base_uri": "https://localhost:8080/"
        },
        "id": "CcO86XmhrrpE",
        "outputId": "a23adbdd-dcd7-41fe-d2b2-3fbd9a1ade97"
      },
      "source": [
        "from google.colab import drive\n",
        "drive.mount('/content/drive')"
      ],
      "execution_count": 1,
      "outputs": [
        {
          "output_type": "stream",
          "text": [
            "Mounted at /content/drive\n"
          ],
          "name": "stdout"
        }
      ]
    },
    {
      "cell_type": "markdown",
      "metadata": {
        "id": "cIWgWeXlgJi2"
      },
      "source": [
        "## **Librerias para generación y visualización del dataset**"
      ]
    },
    {
      "cell_type": "code",
      "metadata": {
        "colab": {
          "base_uri": "https://localhost:8080/"
        },
        "id": "HzkiwLdAgF2O",
        "outputId": "e986aa0f-e85f-402a-f125-0a340442790b"
      },
      "source": [
        "# Importando librerias necesarias para la creación del dataset\n",
        "import matplotlib.pyplot as plt\n",
        "import pandas as pd\n",
        "import numpy as np\n",
        "\n",
        "#Accede a Google Drive para importar los datos, los cuales provienen de una recopilación de bases de datos de indices de criminalidad en el triangulo norte\n",
        "from google.colab import drive\n",
        "drive.mount('/content/drive')"
      ],
      "execution_count": 2,
      "outputs": [
        {
          "output_type": "stream",
          "text": [
            "Drive already mounted at /content/drive; to attempt to forcibly remount, call drive.mount(\"/content/drive\", force_remount=True).\n"
          ],
          "name": "stdout"
        }
      ]
    },
    {
      "cell_type": "markdown",
      "metadata": {
        "id": "bgfb7tDdgvP_"
      },
      "source": [
        "## **1. Recopilación de datos**\n",
        "Los datos han sido extraidos de un archivo CSV recuperados de una [recopilación de Bases de Datos sobre indicadores de criminalidad y justicia en el triángulo norte](https://www.aas.jjay.cuny.edu/single-post/base-de-datos?fbclid=IwAR3Itx49fRZJoazPUPWYLpASA3bag7UjRUCzey4pvtec5O9mjdwG9QLboUE), a la cual se puede acceder en el enlace.\n",
        "\n",
        "**Referencia**: Academy for Security Analysis, John Jay College of Criminal Justice. (2020). *Recopilación de Bases de Datos sobre indicadores de criminalidad y justicia en El Salvador, Guatemala y Honduras*.\n",
        "\n",
        "Por ser información pública también ha sido anexado para facilitar su consulta."
      ]
    },
    {
      "cell_type": "code",
      "metadata": {
        "colab": {
          "base_uri": "https://localhost:8080/",
          "height": 292
        },
        "id": "xbdC5-2mAkqj",
        "outputId": "e6aa15a3-4bd4-404e-8764-44d83664850a"
      },
      "source": [
        "#Importando datos de CSV\n",
        "#Referencia: Academy for Security Analysis, John Jay College of Criminal Justice. (2020). Recopilación de Bases de Datos sobre indicadores de criminalidad y justicia en El Salvador, Guatemala y Honduras.\n",
        "df = pd.read_csv(\"drive/My Drive/IMLHom.csv\")\n",
        "print(len(df))\n",
        "df.head()"
      ],
      "execution_count": 3,
      "outputs": [
        {
          "output_type": "stream",
          "text": [
            "44208\n"
          ],
          "name": "stdout"
        },
        {
          "output_type": "execute_result",
          "data": {
            "text/html": [
              "<div>\n",
              "<style scoped>\n",
              "    .dataframe tbody tr th:only-of-type {\n",
              "        vertical-align: middle;\n",
              "    }\n",
              "\n",
              "    .dataframe tbody tr th {\n",
              "        vertical-align: top;\n",
              "    }\n",
              "\n",
              "    .dataframe thead th {\n",
              "        text-align: right;\n",
              "    }\n",
              "</style>\n",
              "<table border=\"1\" class=\"dataframe\">\n",
              "  <thead>\n",
              "    <tr style=\"text-align: right;\">\n",
              "      <th></th>\n",
              "      <th>NoTotal</th>\n",
              "      <th>Año</th>\n",
              "      <th>N</th>\n",
              "      <th>Mes</th>\n",
              "      <th>Fecha</th>\n",
              "      <th>Fecha_Completa</th>\n",
              "      <th>Dia</th>\n",
              "      <th>Hora</th>\n",
              "      <th>Rango_Horario</th>\n",
              "      <th>Sexo</th>\n",
              "      <th>Edad</th>\n",
              "      <th>Rango_Edad</th>\n",
              "      <th>Municipio</th>\n",
              "      <th>Departamento</th>\n",
              "      <th>Clasificacion_Arma</th>\n",
              "      <th>Tipo_Arma</th>\n",
              "      <th>Codigo_Departamento</th>\n",
              "      <th>Codigo_Municipio</th>\n",
              "    </tr>\n",
              "  </thead>\n",
              "  <tbody>\n",
              "    <tr>\n",
              "      <th>0</th>\n",
              "      <td>1</td>\n",
              "      <td>2008</td>\n",
              "      <td>1</td>\n",
              "      <td>1</td>\n",
              "      <td>02/01</td>\n",
              "      <td>1/2/2008</td>\n",
              "      <td>Miercoles</td>\n",
              "      <td>1250</td>\n",
              "      <td>4</td>\n",
              "      <td>M</td>\n",
              "      <td>33</td>\n",
              "      <td>4</td>\n",
              "      <td>TACUBA</td>\n",
              "      <td>AHUACHAPAN</td>\n",
              "      <td>4</td>\n",
              "      <td>ASF X ESTRANGULACION</td>\n",
              "      <td>1</td>\n",
              "      <td>111</td>\n",
              "    </tr>\n",
              "    <tr>\n",
              "      <th>1</th>\n",
              "      <td>2</td>\n",
              "      <td>2008</td>\n",
              "      <td>2</td>\n",
              "      <td>1</td>\n",
              "      <td>02/01</td>\n",
              "      <td>1/2/2008</td>\n",
              "      <td>Miercoles</td>\n",
              "      <td>1900</td>\n",
              "      <td>5</td>\n",
              "      <td>M</td>\n",
              "      <td>43</td>\n",
              "      <td>5</td>\n",
              "      <td>CHALCHUAPA</td>\n",
              "      <td>SANTA ANA</td>\n",
              "      <td>5</td>\n",
              "      <td>OBJETO CONTUNDENTE</td>\n",
              "      <td>2</td>\n",
              "      <td>203</td>\n",
              "    </tr>\n",
              "    <tr>\n",
              "      <th>2</th>\n",
              "      <td>3</td>\n",
              "      <td>2008</td>\n",
              "      <td>3</td>\n",
              "      <td>1</td>\n",
              "      <td>02/01</td>\n",
              "      <td>1/2/2008</td>\n",
              "      <td>Miercoles</td>\n",
              "      <td>420</td>\n",
              "      <td>2</td>\n",
              "      <td>M</td>\n",
              "      <td>40</td>\n",
              "      <td>4</td>\n",
              "      <td>SANTA ANA</td>\n",
              "      <td>SANTA ANA</td>\n",
              "      <td>5</td>\n",
              "      <td>OBJETO CONTUNDENTE</td>\n",
              "      <td>2</td>\n",
              "      <td>210</td>\n",
              "    </tr>\n",
              "    <tr>\n",
              "      <th>3</th>\n",
              "      <td>4</td>\n",
              "      <td>2008</td>\n",
              "      <td>4</td>\n",
              "      <td>1</td>\n",
              "      <td>02/01</td>\n",
              "      <td>1/2/2008</td>\n",
              "      <td>Miercoles</td>\n",
              "      <td>550</td>\n",
              "      <td>2</td>\n",
              "      <td>M</td>\n",
              "      <td>24</td>\n",
              "      <td>3</td>\n",
              "      <td>CHALCHUAPA</td>\n",
              "      <td>SANTA ANA</td>\n",
              "      <td>2</td>\n",
              "      <td>BLANCA SIN ESPEC.</td>\n",
              "      <td>2</td>\n",
              "      <td>203</td>\n",
              "    </tr>\n",
              "    <tr>\n",
              "      <th>4</th>\n",
              "      <td>5</td>\n",
              "      <td>2008</td>\n",
              "      <td>5</td>\n",
              "      <td>1</td>\n",
              "      <td>02/01</td>\n",
              "      <td>1/2/2008</td>\n",
              "      <td>Miercoles</td>\n",
              "      <td>600</td>\n",
              "      <td>2</td>\n",
              "      <td>M</td>\n",
              "      <td>36</td>\n",
              "      <td>4</td>\n",
              "      <td>YUCUAIQUIN</td>\n",
              "      <td>LA UNION</td>\n",
              "      <td>2</td>\n",
              "      <td>CORTOCONTUNDENTE</td>\n",
              "      <td>14</td>\n",
              "      <td>1418</td>\n",
              "    </tr>\n",
              "  </tbody>\n",
              "</table>\n",
              "</div>"
            ],
            "text/plain": [
              "   NoTotal   Año  ...  Codigo_Departamento  Codigo_Municipio\n",
              "0        1  2008  ...                    1               111\n",
              "1        2  2008  ...                    2               203\n",
              "2        3  2008  ...                    2               210\n",
              "3        4  2008  ...                    2               203\n",
              "4        5  2008  ...                   14              1418\n",
              "\n",
              "[5 rows x 18 columns]"
            ]
          },
          "metadata": {
            "tags": []
          },
          "execution_count": 3
        }
      ]
    },
    {
      "cell_type": "code",
      "metadata": {
        "colab": {
          "base_uri": "https://localhost:8080/",
          "height": 221
        },
        "id": "HKF6laf_v6zw",
        "outputId": "4f0060af-b35e-40a5-ee63-63ae31db9a93"
      },
      "source": [
        "#Se importan tambien los nombres de los municipios y departamentos del Geoportal del CNR\n",
        "df_geo = pd.read_csv(\"drive/My Drive/AllMunWithDept.csv\")\n",
        "print(len(df_geo))\n",
        "df_geo.head()"
      ],
      "execution_count": 4,
      "outputs": [
        {
          "output_type": "stream",
          "text": [
            "262\n"
          ],
          "name": "stdout"
        },
        {
          "output_type": "execute_result",
          "data": {
            "text/html": [
              "<div>\n",
              "<style scoped>\n",
              "    .dataframe tbody tr th:only-of-type {\n",
              "        vertical-align: middle;\n",
              "    }\n",
              "\n",
              "    .dataframe tbody tr th {\n",
              "        vertical-align: top;\n",
              "    }\n",
              "\n",
              "    .dataframe thead th {\n",
              "        text-align: right;\n",
              "    }\n",
              "</style>\n",
              "<table border=\"1\" class=\"dataframe\">\n",
              "  <thead>\n",
              "    <tr style=\"text-align: right;\">\n",
              "      <th></th>\n",
              "      <th>nom_mun</th>\n",
              "      <th>nom_dpto</th>\n",
              "    </tr>\n",
              "  </thead>\n",
              "  <tbody>\n",
              "    <tr>\n",
              "      <th>0</th>\n",
              "      <td>ACAJUTLA</td>\n",
              "      <td>SONSONATE</td>\n",
              "    </tr>\n",
              "    <tr>\n",
              "      <th>1</th>\n",
              "      <td>AGUA CALIENTE</td>\n",
              "      <td>CHALATENANGO</td>\n",
              "    </tr>\n",
              "    <tr>\n",
              "      <th>2</th>\n",
              "      <td>AGUILARES</td>\n",
              "      <td>SAN SALVADOR</td>\n",
              "    </tr>\n",
              "    <tr>\n",
              "      <th>3</th>\n",
              "      <td>AHUACHAPAN</td>\n",
              "      <td>AHUACHAPAN</td>\n",
              "    </tr>\n",
              "    <tr>\n",
              "      <th>4</th>\n",
              "      <td>ALEGRIA</td>\n",
              "      <td>USULUTAN</td>\n",
              "    </tr>\n",
              "  </tbody>\n",
              "</table>\n",
              "</div>"
            ],
            "text/plain": [
              "         nom_mun      nom_dpto\n",
              "0       ACAJUTLA     SONSONATE\n",
              "1  AGUA CALIENTE  CHALATENANGO\n",
              "2      AGUILARES  SAN SALVADOR\n",
              "3     AHUACHAPAN    AHUACHAPAN\n",
              "4        ALEGRIA      USULUTAN"
            ]
          },
          "metadata": {
            "tags": []
          },
          "execution_count": 4
        }
      ]
    },
    {
      "cell_type": "markdown",
      "metadata": {
        "id": "VAtxilXViVNl"
      },
      "source": [
        "## **2. Limpieza de datos**\n",
        "Se procede a eliminar las columnas de dataset que son innecesarias para el modelo, así como a modificar los tipos de datos del mismo.\n",
        "También se calcula el total de homicidios por año en cada municipio y se agrega esa nueva columna al dataset y finalmente se categorizan los nombres de los municipios."
      ]
    },
    {
      "cell_type": "markdown",
      "metadata": {
        "id": "WGsDzaj8ws8f"
      },
      "source": [
        "### 2.1 Municipios y Departamentos del geoportal"
      ]
    },
    {
      "cell_type": "code",
      "metadata": {
        "id": "xUF8APHnw6T-"
      },
      "source": [
        "#Dado que hay municipios que se llaman igual y pertenecen a diferente departamento \n",
        "#Se crea una nueva columna con la concatenacion del departamento y municipio para darle caracter unico\n",
        "dept_mun_geo = []\n",
        "for depto, mun in zip(df_geo['nom_dpto'], df_geo['nom_mun']):\n",
        "  concat_str = depto+','+mun\n",
        "  dept_mun_geo.append(concat_str)"
      ],
      "execution_count": 5,
      "outputs": []
    },
    {
      "cell_type": "code",
      "metadata": {
        "colab": {
          "base_uri": "https://localhost:8080/",
          "height": 204
        },
        "id": "b3TeYo6FxLIO",
        "outputId": "79870c50-92c3-4b06-8496-37f4a4630e6e"
      },
      "source": [
        "#Agrega la columna de tiempo\n",
        "dept_mun_series = pd.Series(dept_mun_geo)\n",
        "df_geo['nom_dpto_nom_mun'] = dept_mun_series.values\n",
        "df_geo.head()"
      ],
      "execution_count": 6,
      "outputs": [
        {
          "output_type": "execute_result",
          "data": {
            "text/html": [
              "<div>\n",
              "<style scoped>\n",
              "    .dataframe tbody tr th:only-of-type {\n",
              "        vertical-align: middle;\n",
              "    }\n",
              "\n",
              "    .dataframe tbody tr th {\n",
              "        vertical-align: top;\n",
              "    }\n",
              "\n",
              "    .dataframe thead th {\n",
              "        text-align: right;\n",
              "    }\n",
              "</style>\n",
              "<table border=\"1\" class=\"dataframe\">\n",
              "  <thead>\n",
              "    <tr style=\"text-align: right;\">\n",
              "      <th></th>\n",
              "      <th>nom_mun</th>\n",
              "      <th>nom_dpto</th>\n",
              "      <th>nom_dpto_nom_mun</th>\n",
              "    </tr>\n",
              "  </thead>\n",
              "  <tbody>\n",
              "    <tr>\n",
              "      <th>0</th>\n",
              "      <td>ACAJUTLA</td>\n",
              "      <td>SONSONATE</td>\n",
              "      <td>SONSONATE,ACAJUTLA</td>\n",
              "    </tr>\n",
              "    <tr>\n",
              "      <th>1</th>\n",
              "      <td>AGUA CALIENTE</td>\n",
              "      <td>CHALATENANGO</td>\n",
              "      <td>CHALATENANGO,AGUA CALIENTE</td>\n",
              "    </tr>\n",
              "    <tr>\n",
              "      <th>2</th>\n",
              "      <td>AGUILARES</td>\n",
              "      <td>SAN SALVADOR</td>\n",
              "      <td>SAN SALVADOR,AGUILARES</td>\n",
              "    </tr>\n",
              "    <tr>\n",
              "      <th>3</th>\n",
              "      <td>AHUACHAPAN</td>\n",
              "      <td>AHUACHAPAN</td>\n",
              "      <td>AHUACHAPAN,AHUACHAPAN</td>\n",
              "    </tr>\n",
              "    <tr>\n",
              "      <th>4</th>\n",
              "      <td>ALEGRIA</td>\n",
              "      <td>USULUTAN</td>\n",
              "      <td>USULUTAN,ALEGRIA</td>\n",
              "    </tr>\n",
              "  </tbody>\n",
              "</table>\n",
              "</div>"
            ],
            "text/plain": [
              "         nom_mun      nom_dpto            nom_dpto_nom_mun\n",
              "0       ACAJUTLA     SONSONATE          SONSONATE,ACAJUTLA\n",
              "1  AGUA CALIENTE  CHALATENANGO  CHALATENANGO,AGUA CALIENTE\n",
              "2      AGUILARES  SAN SALVADOR      SAN SALVADOR,AGUILARES\n",
              "3     AHUACHAPAN    AHUACHAPAN       AHUACHAPAN,AHUACHAPAN\n",
              "4        ALEGRIA      USULUTAN            USULUTAN,ALEGRIA"
            ]
          },
          "metadata": {
            "tags": []
          },
          "execution_count": 6
        }
      ]
    },
    {
      "cell_type": "code",
      "metadata": {
        "colab": {
          "base_uri": "https://localhost:8080/"
        },
        "id": "9jERZMRrxyfX",
        "outputId": "29552249-868d-4894-b849-753199c98457"
      },
      "source": [
        "#Se crea un array con loss valores unicoss que se añadieron a la tabla\n",
        "dept_mun_array = list(df_geo.nom_dpto_nom_mun.unique())\n",
        "print(dept_mun_array)"
      ],
      "execution_count": 7,
      "outputs": [
        {
          "output_type": "stream",
          "text": [
            "['SONSONATE,ACAJUTLA', 'CHALATENANGO,AGUA CALIENTE', 'SAN SALVADOR,AGUILARES', 'AHUACHAPAN,AHUACHAPAN', 'USULUTAN,ALEGRIA', 'LA UNION,ANAMOROS', 'LA LIBERTAD,ANTIGUO CUSCATLAN', 'AHUACHAPAN,APANECA', 'SAN VICENTE,APASTEPEQUE', 'SAN SALVADOR,APOPA', 'MORAZAN,ARAMBALA', 'CHALATENANGO,ARCATAO', 'SONSONATE,ARMENIA', 'AHUACHAPAN,ATIQUIZAYA', 'SAN SALVADOR,AYUTUXTEPEQUE', 'CHALATENANGO,AZACUALPA', 'USULUTAN,BERLIN', 'LA UNION,BOLIVAR', 'MORAZAN,CACAOPERA', 'USULUTAN,CALIFORNIA', 'SONSONATE,CALUCO', 'CHALATENANGO,CANCASQUE', 'CUSCATLAN,CANDELARIA', 'SANTA ANA,CANDELARIA DE LA FRONTERA', 'SAN MIGUEL,CAROLINA', 'CHALATENANGO,CHALATENANGO', 'SANTA ANA,CHALCHUAPA', 'SAN MIGUEL,CHAPELTIQUE', 'MORAZAN,CHILANGA', 'LA LIBERTAD,CHILTIUPAN', 'SAN MIGUEL,CHINAMECA', 'SAN MIGUEL,CHIRILAGUA', 'CABANAS,CINQUERA', 'CHALATENANGO,CITALA', 'LA LIBERTAD,CIUDAD ARCE', 'SAN MIGUEL,CIUDAD BARRIOS', 'SANTA ANA,COATEPEQUE', 'CUSCATLAN,COJUTEPEQUE', 'LA LIBERTAD,COLON', 'SAN MIGUEL,COMACARAN', 'CHALATENANGO,COMALAPA', 'LA LIBERTAD,COMASAGUA', 'USULUTAN,CONCEPCION BATRES', 'AHUACHAPAN,CONCEPCION DE ATACO', 'LA UNION,CONCEPCION DE ORIENTE', 'CHALATENANGO,CONCEPCION QUEZALTEPEQUE', 'LA UNION,CONCHAGUA', 'MORAZAN,CORINTO', 'SONSONATE,CUISNAHUAT', 'SAN SALVADOR,CUSCATANCINGO', 'LA PAZ,CUYULTITAN', 'SAN SALVADOR,DELGADO', 'MORAZAN,DELICIAS DE CONCEPCION', 'CABANAS,DOLORES', 'CHALATENANGO,DULCE NOMBRE DE MARIA', 'LA UNION,EL CARMEN', 'CUSCATLAN,EL CARMEN', 'CHALATENANGO,EL CARRIZAL', 'SANTA ANA,EL CONGO', 'MORAZAN,EL DIVISADERO', 'SAN SALVADOR,EL PAISNAL', 'CHALATENANGO,EL PARAISO', 'SANTA ANA,EL PORVENIR', 'AHUACHAPAN,EL REFUGIO', 'MORAZAN,EL ROSARIO', 'LA PAZ,EL ROSARIO', 'CUSCATLAN,EL ROSARIO', 'LA UNION,EL SAUCE', 'SAN MIGUEL,EL TRANSITO', 'USULUTAN,EL TRIUNFO', 'USULUTAN,EREGUAYQUIN', 'USULUTAN,ESTANZUELAS', 'CABANAS,GUACOTECTI', 'SAN VICENTE,GUADALUPE', 'MORAZAN,GUALOCOCTI', 'MORAZAN,GUATAJIAGUA', 'AHUACHAPAN,GUAYMANGO', 'SAN SALVADOR,GUAZAPA', 'LA LIBERTAD,HUIZUCAR', 'CABANAS,ILOBASCO', 'SAN SALVADOR,ILOPANGO', 'LA UNION,INTIPUCA', 'SONSONATE,IZALCO', 'LA LIBERTAD,JAYAQUE', 'LA PAZ,JERUSALEN', 'LA LIBERTAD,JICALAPA', 'USULUTAN,JIQUILISCO', 'MORAZAN,JOATECA', 'MORAZAN,JOCOAITIQUE', 'MORAZAN,JOCORO', 'SONSONATE,JUAYUA', 'USULUTAN,JUCUAPA', 'USULUTAN,JUCUARAN', 'AHUACHAPAN,JUJUTLA', 'CABANAS,JUTIAPA', 'CHALATENANGO,LA LAGUNA', 'LA LIBERTAD,LA LIBERTAD', 'CHALATENANGO,LA PALMA', 'CHALATENANGO,LA REINA', 'LA UNION,LA UNION', 'CHALATENANGO,LAS FLORES', 'CHALATENANGO,LAS VUELTAS', 'LA UNION,LISLIQUE', 'SAN MIGUEL,LOLOTIQUE', 'MORAZAN,LOLOTIQUILLO', 'SANTA ANA,MASAHUAT', 'MORAZAN,MEANGUERA', 'LA UNION,MEANGUERA DEL GOLFO', 'SAN SALVADOR,MEJICANOS', 'LA PAZ,MERCEDES LA CEIBA', 'USULUTAN,MERCEDES UMANA', 'SANTA ANA,METAPAN', 'SAN MIGUEL,MONCAGUA', 'CUSCATLAN,MONTE SAN JUAN', 'SONSONATE,NAHUIZALCO', 'SONSONATE,NAHULINGO', 'SAN SALVADOR,NEJAPA', 'CHALATENANGO,NOMBRE DE JESUS', 'CHALATENANGO,NUEVA CONCEPCION', 'LA UNION,NUEVA ESPARTA', 'USULUTAN,NUEVA GRANADA', 'SAN MIGUEL,NUEVA GUADALUPE', 'CHALATENANGO,NUEVA TRINIDAD', 'LA LIBERTAD,NUEVO CUSCATLAN', 'SAN MIGUEL,NUEVO EDEN DE SAN JUAN', 'CHALATENANGO,OJOS DE AGUA', 'LA PAZ,OLOCUILTA', 'CUSCATLAN,ORATORIO DE CONCEPCION', 'MORAZAN,OSICALA', 'USULUTAN,OZATLAN', 'SAN SALVADOR,PANCHIMALCO', 'LA PAZ,PARAISO DE OSORIO', 'LA UNION,PASAQUINA', 'MORAZAN,PERQUIN', 'LA UNION,POLOROS', 'CHALATENANGO,POTONICO', 'USULUTAN,PUERTO EL TRIUNFO', 'SAN MIGUEL,QUELEPA', 'LA LIBERTAD,QUEZALTEPEQUE', 'SAN SALVADOR,ROSARIO DE MORA', 'LA LIBERTAD,SACACOYO', 'SONSONATE,SALCOATITAN', 'USULUTAN,SAN AGUSTIN', 'LA UNION,SAN ALEJO', 'SAN MIGUEL,SAN ANTONIO', 'CHALATENANGO,SAN ANTONIO DE LA CRUZ', 'SONSONATE,SAN ANTONIO DEL MONTE', 'CHALATENANGO,SAN ANTONIO LOS RANCHOS', 'LA PAZ,SAN ANTONIO MASAHUAT', 'SANTA ANA,SAN ANTONIO PAJONAL', 'CUSCATLAN,SAN BARTOLOME PERULAPIA', 'USULUTAN,SAN BUENA VENTURA', 'MORAZAN,SAN CARLOS', 'SAN VICENTE,SAN CAYETANO ISTEPEQUE', 'CUSCATLAN,SAN CRISTOBAL', 'USULUTAN,SAN DIONISIO', 'LA PAZ,SAN EMIGDIO', 'SAN VICENTE,SAN ESTEBAN CATARINA', 'CHALATENANGO,SAN FERNANDO', 'MORAZAN,SAN FERNANDO', 'LA PAZ,SAN FRANCISCO CHINAMECA', 'MORAZAN,SAN FRANCISCO GOTERA', 'USULUTAN,SAN FRANCISCO JAVIER', 'CHALATENANGO,SAN FRANCISCO LEMPA', 'AHUACHAPAN,SAN FRANCISCO MENENDEZ', 'CHALATENANGO,SAN FRANCISCO MORAZAN', 'SAN MIGUEL,SAN GERARDO', 'CHALATENANGO,SAN IGNACIO', 'SAN VICENTE,SAN ILDEFONSO', 'MORAZAN,SAN ISIDRO', 'CABANAS,SAN ISIDRO', 'CHALATENANGO,SAN ISIDRO LABRADOR', 'SAN MIGUEL,SAN JORGE', 'LA UNION,SAN JOSE', 'CUSCATLAN,SAN JOSE GUAYABAL', 'LA LIBERTAD,SAN JOSE VILLANUEVA', 'LA PAZ,SAN JUAN NONUALCO', 'LA LIBERTAD,SAN JUAN OPICO', 'LA PAZ,SAN JUAN TALPA', 'LA PAZ,SAN JUAN TEPEZONTES', 'SONSONATE,SAN JULIAN', 'SAN VICENTE,SAN LORENZO', 'AHUACHAPAN,SAN LORENZO', 'SAN MIGUEL,SAN LUIS DE LA REINA', 'CHALATENANGO,SAN LUIS DEL CARMEN', 'LA PAZ,SAN LUIS LA HERRADURA', 'LA PAZ,SAN LUIS TALPA', 'SAN SALVADOR,SAN MARCOS', 'SAN SALVADOR,SAN MARTIN', 'LA LIBERTAD,SAN MATIAS', 'SAN MIGUEL,SAN MIGUEL', 'CHALATENANGO,SAN MIGUEL DE MERCEDES', 'LA PAZ,SAN MIGUEL TEPEZONTES', 'LA LIBERTAD,SAN PABLO TACACHICO', 'LA PAZ,SAN PEDRO MASAHUAT', 'LA PAZ,SAN PEDRO NONUALCO', 'CUSCATLAN,SAN PEDRO PERULAPAN', 'AHUACHAPAN,SAN PEDRO PUXTLA', 'CHALATENANGO,SAN RAFAEL', 'CUSCATLAN,SAN RAFAEL CEDROS', 'LA PAZ,SAN RAFAEL OBRAJUELO', 'SAN MIGUEL,SAN RAFAEL ORIENTE', 'CUSCATLAN,SAN RAMON', 'SAN SALVADOR,SAN SALVADOR', 'SAN VICENTE,SAN SEBASTIAN', 'SANTA ANA,SAN SEBASTIAN SALITRILLO', 'MORAZAN,SAN SIMON', 'SAN VICENTE,SAN VICENTE', 'SANTA ANA,SANTA ANA', 'SONSONATE,SANTA CATARINA MASAHUAT', 'SAN VICENTE,SANTA CLARA', 'CUSCATLAN,SANTA CRUZ ANALQUITO', 'CUSCATLAN,SANTA CRUZ MICHAPA', 'USULUTAN,SANTA ELENA', 'SONSONATE,SANTA ISABEL ISHUATAN', 'USULUTAN,SANTA MARIA', 'LA PAZ,SANTA MARIA OSTUMA', 'CHALATENANGO,SANTA RITA', 'LA UNION,SANTA ROSA DE LIMA', 'SANTA ANA,SANTA ROSA GUACHIPILIN', 'LA LIBERTAD,SANTA TECLA', 'SANTA ANA,SANTIAGO DE LA FRONTERA', 'USULUTAN,SANTIAGO DE MARIA', 'LA PAZ,SANTIAGO NONUALCO', 'SAN SALVADOR,SANTIAGO TEXACUANGOS', 'SAN VICENTE,SANTO DOMINGO', 'SONSONATE,SANTO DOMINGO DE GUZMAN', 'SAN SALVADOR,SANTO TOMAS', 'MORAZAN,SENSEMBRA', 'CABANAS,SENSUNTEPEQUE', 'SAN MIGUEL,SESORI', 'MORAZAN,SOCIEDAD', 'SONSONATE,SONSONATE', 'SONSONATE,SONZACATE', 'SAN SALVADOR,SOYAPANGO', 'CUSCATLAN,SUCHITOTO', 'AHUACHAPAN,TACUBA', 'LA LIBERTAD,TALNIQUE', 'LA LIBERTAD,TAMANIQUE', 'LA PAZ,TAPALHUACA', 'USULUTAN,TECAPAN', 'SAN VICENTE,TECOLUCA', 'CABANAS,TEJUTEPEQUE', 'CHALATENANGO,TEJUTLA', 'CUSCATLAN,TENANCINGO', 'LA LIBERTAD,TEOTEPEQUE', 'LA LIBERTAD,TEPECOYO', 'SAN VICENTE,TEPETITAN', 'SANTA ANA,TEXISTEPEQUE', 'SAN SALVADOR,TONACATEPEQUE', 'MORAZAN,TOROLA', 'AHUACHAPAN,TURIN', 'SAN MIGUEL,ULUAZAPA', 'USULUTAN,USULUTAN', 'SAN VICENTE,VERAPAZ', 'CABANAS,VICTORIA', 'MORAZAN,YAMABAL', 'LA UNION,YAYANTIQUE', 'MORAZAN,YOLOAIQUIN', 'LA UNION,YUCUAIQUIN', 'LA PAZ,ZACATECOLUCA', 'LA LIBERTAD,ZARAGOZA']\n"
          ],
          "name": "stdout"
        }
      ]
    },
    {
      "cell_type": "code",
      "metadata": {
        "colab": {
          "base_uri": "https://localhost:8080/"
        },
        "id": "Y-5TmYskx7iA",
        "outputId": "f24c125f-831a-4e10-eef4-01685b58a08c"
      },
      "source": [
        "#Se crea un diccionario que tendra el codigo del la categoria como clave y la concatenacion de depto y mun como valor\n",
        "encode_dict = {}\n",
        "for i in range(0, 262):\n",
        "  encode_dict[i] = dept_mun_array[i]\n",
        "print(encode_dict)"
      ],
      "execution_count": 8,
      "outputs": [
        {
          "output_type": "stream",
          "text": [
            "{0: 'SONSONATE,ACAJUTLA', 1: 'CHALATENANGO,AGUA CALIENTE', 2: 'SAN SALVADOR,AGUILARES', 3: 'AHUACHAPAN,AHUACHAPAN', 4: 'USULUTAN,ALEGRIA', 5: 'LA UNION,ANAMOROS', 6: 'LA LIBERTAD,ANTIGUO CUSCATLAN', 7: 'AHUACHAPAN,APANECA', 8: 'SAN VICENTE,APASTEPEQUE', 9: 'SAN SALVADOR,APOPA', 10: 'MORAZAN,ARAMBALA', 11: 'CHALATENANGO,ARCATAO', 12: 'SONSONATE,ARMENIA', 13: 'AHUACHAPAN,ATIQUIZAYA', 14: 'SAN SALVADOR,AYUTUXTEPEQUE', 15: 'CHALATENANGO,AZACUALPA', 16: 'USULUTAN,BERLIN', 17: 'LA UNION,BOLIVAR', 18: 'MORAZAN,CACAOPERA', 19: 'USULUTAN,CALIFORNIA', 20: 'SONSONATE,CALUCO', 21: 'CHALATENANGO,CANCASQUE', 22: 'CUSCATLAN,CANDELARIA', 23: 'SANTA ANA,CANDELARIA DE LA FRONTERA', 24: 'SAN MIGUEL,CAROLINA', 25: 'CHALATENANGO,CHALATENANGO', 26: 'SANTA ANA,CHALCHUAPA', 27: 'SAN MIGUEL,CHAPELTIQUE', 28: 'MORAZAN,CHILANGA', 29: 'LA LIBERTAD,CHILTIUPAN', 30: 'SAN MIGUEL,CHINAMECA', 31: 'SAN MIGUEL,CHIRILAGUA', 32: 'CABANAS,CINQUERA', 33: 'CHALATENANGO,CITALA', 34: 'LA LIBERTAD,CIUDAD ARCE', 35: 'SAN MIGUEL,CIUDAD BARRIOS', 36: 'SANTA ANA,COATEPEQUE', 37: 'CUSCATLAN,COJUTEPEQUE', 38: 'LA LIBERTAD,COLON', 39: 'SAN MIGUEL,COMACARAN', 40: 'CHALATENANGO,COMALAPA', 41: 'LA LIBERTAD,COMASAGUA', 42: 'USULUTAN,CONCEPCION BATRES', 43: 'AHUACHAPAN,CONCEPCION DE ATACO', 44: 'LA UNION,CONCEPCION DE ORIENTE', 45: 'CHALATENANGO,CONCEPCION QUEZALTEPEQUE', 46: 'LA UNION,CONCHAGUA', 47: 'MORAZAN,CORINTO', 48: 'SONSONATE,CUISNAHUAT', 49: 'SAN SALVADOR,CUSCATANCINGO', 50: 'LA PAZ,CUYULTITAN', 51: 'SAN SALVADOR,DELGADO', 52: 'MORAZAN,DELICIAS DE CONCEPCION', 53: 'CABANAS,DOLORES', 54: 'CHALATENANGO,DULCE NOMBRE DE MARIA', 55: 'LA UNION,EL CARMEN', 56: 'CUSCATLAN,EL CARMEN', 57: 'CHALATENANGO,EL CARRIZAL', 58: 'SANTA ANA,EL CONGO', 59: 'MORAZAN,EL DIVISADERO', 60: 'SAN SALVADOR,EL PAISNAL', 61: 'CHALATENANGO,EL PARAISO', 62: 'SANTA ANA,EL PORVENIR', 63: 'AHUACHAPAN,EL REFUGIO', 64: 'MORAZAN,EL ROSARIO', 65: 'LA PAZ,EL ROSARIO', 66: 'CUSCATLAN,EL ROSARIO', 67: 'LA UNION,EL SAUCE', 68: 'SAN MIGUEL,EL TRANSITO', 69: 'USULUTAN,EL TRIUNFO', 70: 'USULUTAN,EREGUAYQUIN', 71: 'USULUTAN,ESTANZUELAS', 72: 'CABANAS,GUACOTECTI', 73: 'SAN VICENTE,GUADALUPE', 74: 'MORAZAN,GUALOCOCTI', 75: 'MORAZAN,GUATAJIAGUA', 76: 'AHUACHAPAN,GUAYMANGO', 77: 'SAN SALVADOR,GUAZAPA', 78: 'LA LIBERTAD,HUIZUCAR', 79: 'CABANAS,ILOBASCO', 80: 'SAN SALVADOR,ILOPANGO', 81: 'LA UNION,INTIPUCA', 82: 'SONSONATE,IZALCO', 83: 'LA LIBERTAD,JAYAQUE', 84: 'LA PAZ,JERUSALEN', 85: 'LA LIBERTAD,JICALAPA', 86: 'USULUTAN,JIQUILISCO', 87: 'MORAZAN,JOATECA', 88: 'MORAZAN,JOCOAITIQUE', 89: 'MORAZAN,JOCORO', 90: 'SONSONATE,JUAYUA', 91: 'USULUTAN,JUCUAPA', 92: 'USULUTAN,JUCUARAN', 93: 'AHUACHAPAN,JUJUTLA', 94: 'CABANAS,JUTIAPA', 95: 'CHALATENANGO,LA LAGUNA', 96: 'LA LIBERTAD,LA LIBERTAD', 97: 'CHALATENANGO,LA PALMA', 98: 'CHALATENANGO,LA REINA', 99: 'LA UNION,LA UNION', 100: 'CHALATENANGO,LAS FLORES', 101: 'CHALATENANGO,LAS VUELTAS', 102: 'LA UNION,LISLIQUE', 103: 'SAN MIGUEL,LOLOTIQUE', 104: 'MORAZAN,LOLOTIQUILLO', 105: 'SANTA ANA,MASAHUAT', 106: 'MORAZAN,MEANGUERA', 107: 'LA UNION,MEANGUERA DEL GOLFO', 108: 'SAN SALVADOR,MEJICANOS', 109: 'LA PAZ,MERCEDES LA CEIBA', 110: 'USULUTAN,MERCEDES UMANA', 111: 'SANTA ANA,METAPAN', 112: 'SAN MIGUEL,MONCAGUA', 113: 'CUSCATLAN,MONTE SAN JUAN', 114: 'SONSONATE,NAHUIZALCO', 115: 'SONSONATE,NAHULINGO', 116: 'SAN SALVADOR,NEJAPA', 117: 'CHALATENANGO,NOMBRE DE JESUS', 118: 'CHALATENANGO,NUEVA CONCEPCION', 119: 'LA UNION,NUEVA ESPARTA', 120: 'USULUTAN,NUEVA GRANADA', 121: 'SAN MIGUEL,NUEVA GUADALUPE', 122: 'CHALATENANGO,NUEVA TRINIDAD', 123: 'LA LIBERTAD,NUEVO CUSCATLAN', 124: 'SAN MIGUEL,NUEVO EDEN DE SAN JUAN', 125: 'CHALATENANGO,OJOS DE AGUA', 126: 'LA PAZ,OLOCUILTA', 127: 'CUSCATLAN,ORATORIO DE CONCEPCION', 128: 'MORAZAN,OSICALA', 129: 'USULUTAN,OZATLAN', 130: 'SAN SALVADOR,PANCHIMALCO', 131: 'LA PAZ,PARAISO DE OSORIO', 132: 'LA UNION,PASAQUINA', 133: 'MORAZAN,PERQUIN', 134: 'LA UNION,POLOROS', 135: 'CHALATENANGO,POTONICO', 136: 'USULUTAN,PUERTO EL TRIUNFO', 137: 'SAN MIGUEL,QUELEPA', 138: 'LA LIBERTAD,QUEZALTEPEQUE', 139: 'SAN SALVADOR,ROSARIO DE MORA', 140: 'LA LIBERTAD,SACACOYO', 141: 'SONSONATE,SALCOATITAN', 142: 'USULUTAN,SAN AGUSTIN', 143: 'LA UNION,SAN ALEJO', 144: 'SAN MIGUEL,SAN ANTONIO', 145: 'CHALATENANGO,SAN ANTONIO DE LA CRUZ', 146: 'SONSONATE,SAN ANTONIO DEL MONTE', 147: 'CHALATENANGO,SAN ANTONIO LOS RANCHOS', 148: 'LA PAZ,SAN ANTONIO MASAHUAT', 149: 'SANTA ANA,SAN ANTONIO PAJONAL', 150: 'CUSCATLAN,SAN BARTOLOME PERULAPIA', 151: 'USULUTAN,SAN BUENA VENTURA', 152: 'MORAZAN,SAN CARLOS', 153: 'SAN VICENTE,SAN CAYETANO ISTEPEQUE', 154: 'CUSCATLAN,SAN CRISTOBAL', 155: 'USULUTAN,SAN DIONISIO', 156: 'LA PAZ,SAN EMIGDIO', 157: 'SAN VICENTE,SAN ESTEBAN CATARINA', 158: 'CHALATENANGO,SAN FERNANDO', 159: 'MORAZAN,SAN FERNANDO', 160: 'LA PAZ,SAN FRANCISCO CHINAMECA', 161: 'MORAZAN,SAN FRANCISCO GOTERA', 162: 'USULUTAN,SAN FRANCISCO JAVIER', 163: 'CHALATENANGO,SAN FRANCISCO LEMPA', 164: 'AHUACHAPAN,SAN FRANCISCO MENENDEZ', 165: 'CHALATENANGO,SAN FRANCISCO MORAZAN', 166: 'SAN MIGUEL,SAN GERARDO', 167: 'CHALATENANGO,SAN IGNACIO', 168: 'SAN VICENTE,SAN ILDEFONSO', 169: 'MORAZAN,SAN ISIDRO', 170: 'CABANAS,SAN ISIDRO', 171: 'CHALATENANGO,SAN ISIDRO LABRADOR', 172: 'SAN MIGUEL,SAN JORGE', 173: 'LA UNION,SAN JOSE', 174: 'CUSCATLAN,SAN JOSE GUAYABAL', 175: 'LA LIBERTAD,SAN JOSE VILLANUEVA', 176: 'LA PAZ,SAN JUAN NONUALCO', 177: 'LA LIBERTAD,SAN JUAN OPICO', 178: 'LA PAZ,SAN JUAN TALPA', 179: 'LA PAZ,SAN JUAN TEPEZONTES', 180: 'SONSONATE,SAN JULIAN', 181: 'SAN VICENTE,SAN LORENZO', 182: 'AHUACHAPAN,SAN LORENZO', 183: 'SAN MIGUEL,SAN LUIS DE LA REINA', 184: 'CHALATENANGO,SAN LUIS DEL CARMEN', 185: 'LA PAZ,SAN LUIS LA HERRADURA', 186: 'LA PAZ,SAN LUIS TALPA', 187: 'SAN SALVADOR,SAN MARCOS', 188: 'SAN SALVADOR,SAN MARTIN', 189: 'LA LIBERTAD,SAN MATIAS', 190: 'SAN MIGUEL,SAN MIGUEL', 191: 'CHALATENANGO,SAN MIGUEL DE MERCEDES', 192: 'LA PAZ,SAN MIGUEL TEPEZONTES', 193: 'LA LIBERTAD,SAN PABLO TACACHICO', 194: 'LA PAZ,SAN PEDRO MASAHUAT', 195: 'LA PAZ,SAN PEDRO NONUALCO', 196: 'CUSCATLAN,SAN PEDRO PERULAPAN', 197: 'AHUACHAPAN,SAN PEDRO PUXTLA', 198: 'CHALATENANGO,SAN RAFAEL', 199: 'CUSCATLAN,SAN RAFAEL CEDROS', 200: 'LA PAZ,SAN RAFAEL OBRAJUELO', 201: 'SAN MIGUEL,SAN RAFAEL ORIENTE', 202: 'CUSCATLAN,SAN RAMON', 203: 'SAN SALVADOR,SAN SALVADOR', 204: 'SAN VICENTE,SAN SEBASTIAN', 205: 'SANTA ANA,SAN SEBASTIAN SALITRILLO', 206: 'MORAZAN,SAN SIMON', 207: 'SAN VICENTE,SAN VICENTE', 208: 'SANTA ANA,SANTA ANA', 209: 'SONSONATE,SANTA CATARINA MASAHUAT', 210: 'SAN VICENTE,SANTA CLARA', 211: 'CUSCATLAN,SANTA CRUZ ANALQUITO', 212: 'CUSCATLAN,SANTA CRUZ MICHAPA', 213: 'USULUTAN,SANTA ELENA', 214: 'SONSONATE,SANTA ISABEL ISHUATAN', 215: 'USULUTAN,SANTA MARIA', 216: 'LA PAZ,SANTA MARIA OSTUMA', 217: 'CHALATENANGO,SANTA RITA', 218: 'LA UNION,SANTA ROSA DE LIMA', 219: 'SANTA ANA,SANTA ROSA GUACHIPILIN', 220: 'LA LIBERTAD,SANTA TECLA', 221: 'SANTA ANA,SANTIAGO DE LA FRONTERA', 222: 'USULUTAN,SANTIAGO DE MARIA', 223: 'LA PAZ,SANTIAGO NONUALCO', 224: 'SAN SALVADOR,SANTIAGO TEXACUANGOS', 225: 'SAN VICENTE,SANTO DOMINGO', 226: 'SONSONATE,SANTO DOMINGO DE GUZMAN', 227: 'SAN SALVADOR,SANTO TOMAS', 228: 'MORAZAN,SENSEMBRA', 229: 'CABANAS,SENSUNTEPEQUE', 230: 'SAN MIGUEL,SESORI', 231: 'MORAZAN,SOCIEDAD', 232: 'SONSONATE,SONSONATE', 233: 'SONSONATE,SONZACATE', 234: 'SAN SALVADOR,SOYAPANGO', 235: 'CUSCATLAN,SUCHITOTO', 236: 'AHUACHAPAN,TACUBA', 237: 'LA LIBERTAD,TALNIQUE', 238: 'LA LIBERTAD,TAMANIQUE', 239: 'LA PAZ,TAPALHUACA', 240: 'USULUTAN,TECAPAN', 241: 'SAN VICENTE,TECOLUCA', 242: 'CABANAS,TEJUTEPEQUE', 243: 'CHALATENANGO,TEJUTLA', 244: 'CUSCATLAN,TENANCINGO', 245: 'LA LIBERTAD,TEOTEPEQUE', 246: 'LA LIBERTAD,TEPECOYO', 247: 'SAN VICENTE,TEPETITAN', 248: 'SANTA ANA,TEXISTEPEQUE', 249: 'SAN SALVADOR,TONACATEPEQUE', 250: 'MORAZAN,TOROLA', 251: 'AHUACHAPAN,TURIN', 252: 'SAN MIGUEL,ULUAZAPA', 253: 'USULUTAN,USULUTAN', 254: 'SAN VICENTE,VERAPAZ', 255: 'CABANAS,VICTORIA', 256: 'MORAZAN,YAMABAL', 257: 'LA UNION,YAYANTIQUE', 258: 'MORAZAN,YOLOAIQUIN', 259: 'LA UNION,YUCUAIQUIN', 260: 'LA PAZ,ZACATECOLUCA', 261: 'LA LIBERTAD,ZARAGOZA'}\n"
          ],
          "name": "stdout"
        }
      ]
    },
    {
      "cell_type": "markdown",
      "metadata": {
        "id": "46CcOKiHw041"
      },
      "source": [
        "### 2.2 Dataset de homicidios"
      ]
    },
    {
      "cell_type": "code",
      "metadata": {
        "colab": {
          "base_uri": "https://localhost:8080/"
        },
        "id": "hhgTQbM4Al8p",
        "outputId": "db70ca82-f46b-4314-96ae-4aedcd65783d"
      },
      "source": [
        "#Modifica el df a solo homicidios con los 4 tipos de armas que tenian más registros: ARMA DE FUEGO o ASF X ESTRANGULACION o OBJETO CONTUNDENTE o CORTOCONTUNDENTE\n",
        "df = df[df.Tipo_Arma.str.contains('ARMA DE FUEGO|ASF X ESTRANGULACION|OBJETO CONTUNDENTE|CORTOCONTUNDENTE', regex=True)]\n",
        "print(len(df))"
      ],
      "execution_count": 9,
      "outputs": [
        {
          "output_type": "stream",
          "text": [
            "40483\n"
          ],
          "name": "stdout"
        }
      ]
    },
    {
      "cell_type": "code",
      "metadata": {
        "colab": {
          "base_uri": "https://localhost:8080/",
          "height": 204
        },
        "id": "EUYHCHwuvuK5",
        "outputId": "c18a6a6b-81ae-40d8-d924-fb530101e391"
      },
      "source": [
        "#Se eliminan las columnas innecesarias\n",
        "df = df.drop(['NoTotal', 'N', 'Mes', 'Fecha', 'Fecha_Completa', 'Dia','Hora', 'Rango_Horario', 'Codigo_Departamento', 'Codigo_Municipio', 'Rango_Edad', 'Clasificacion_Arma', 'Edad', 'Sexo', 'Tipo_Arma'], axis=1)\n",
        "df.head()"
      ],
      "execution_count": 10,
      "outputs": [
        {
          "output_type": "execute_result",
          "data": {
            "text/html": [
              "<div>\n",
              "<style scoped>\n",
              "    .dataframe tbody tr th:only-of-type {\n",
              "        vertical-align: middle;\n",
              "    }\n",
              "\n",
              "    .dataframe tbody tr th {\n",
              "        vertical-align: top;\n",
              "    }\n",
              "\n",
              "    .dataframe thead th {\n",
              "        text-align: right;\n",
              "    }\n",
              "</style>\n",
              "<table border=\"1\" class=\"dataframe\">\n",
              "  <thead>\n",
              "    <tr style=\"text-align: right;\">\n",
              "      <th></th>\n",
              "      <th>Año</th>\n",
              "      <th>Municipio</th>\n",
              "      <th>Departamento</th>\n",
              "    </tr>\n",
              "  </thead>\n",
              "  <tbody>\n",
              "    <tr>\n",
              "      <th>0</th>\n",
              "      <td>2008</td>\n",
              "      <td>TACUBA</td>\n",
              "      <td>AHUACHAPAN</td>\n",
              "    </tr>\n",
              "    <tr>\n",
              "      <th>1</th>\n",
              "      <td>2008</td>\n",
              "      <td>CHALCHUAPA</td>\n",
              "      <td>SANTA ANA</td>\n",
              "    </tr>\n",
              "    <tr>\n",
              "      <th>2</th>\n",
              "      <td>2008</td>\n",
              "      <td>SANTA ANA</td>\n",
              "      <td>SANTA ANA</td>\n",
              "    </tr>\n",
              "    <tr>\n",
              "      <th>4</th>\n",
              "      <td>2008</td>\n",
              "      <td>YUCUAIQUIN</td>\n",
              "      <td>LA UNION</td>\n",
              "    </tr>\n",
              "    <tr>\n",
              "      <th>5</th>\n",
              "      <td>2008</td>\n",
              "      <td>TONACATEPEQUE</td>\n",
              "      <td>SAN SALVADOR</td>\n",
              "    </tr>\n",
              "  </tbody>\n",
              "</table>\n",
              "</div>"
            ],
            "text/plain": [
              "    Año      Municipio  Departamento\n",
              "0  2008         TACUBA    AHUACHAPAN\n",
              "1  2008     CHALCHUAPA     SANTA ANA\n",
              "2  2008      SANTA ANA     SANTA ANA\n",
              "4  2008     YUCUAIQUIN      LA UNION\n",
              "5  2008  TONACATEPEQUE  SAN SALVADOR"
            ]
          },
          "metadata": {
            "tags": []
          },
          "execution_count": 10
        }
      ]
    },
    {
      "cell_type": "code",
      "metadata": {
        "id": "NbVQPdgPv0RO"
      },
      "source": [
        "# Correcciones en nombres de departamentos y/o municipios para que esten acorde al geoJSON\n",
        "df.loc[df.Departamento == 'CABAÑAS', 'Departamento'] = 'CABANAS'\n",
        "df.loc[df.Municipio == 'CIUDAD DELGADO', 'Municipio'] = 'DELGADO'\n",
        "df.loc[df.Municipio == 'SAN JOSE CANCASQUE', 'Municipio'] = 'CANCASQUE'\n",
        "df.loc[df.Municipio == 'MERCEDES  LA CEIBA', 'Municipio'] = 'MERCEDES LA CEIBA'\n",
        "df.loc[df.Municipio == 'MERCEDES LA CEIBA', 'Departamento'] = 'LA PAZ'\n",
        "df.loc[df.Municipio == 'MERCEDES UMAÑA', 'Municipio'] = 'MERCEDES UMANA'\n",
        "df.loc[df.Municipio == 'NAHUILINGO', 'Municipio'] = 'NAHULINGO'\n",
        "df.loc[df.Municipio == 'NAHUILINGO', 'Municipio'] = 'NAHULINGO'\n",
        "df.loc[df.Municipio == 'NUEVA EDEN DE SAN JUAN', 'Municipio'] = 'NUEVO EDEN DE SAN JUAN'\n",
        "df.loc[df.Municipio == 'OSCICALA', 'Municipio'] = 'OSICALA'\n",
        "df.loc[df.Municipio == 'SAN BUENAVENTURA', 'Municipio'] = 'SAN BUENA VENTURA'\n",
        "df.loc[df.Municipio == 'AHUACHAPAN', 'Departamento'] = 'AHUACHAPAN'\n",
        "df.loc[df.Municipio == 'COMALAPA', 'Departamento'] = 'CHALATENANGO'"
      ],
      "execution_count": 11,
      "outputs": []
    },
    {
      "cell_type": "code",
      "metadata": {
        "id": "ahA7bIEWzIPO"
      },
      "source": [
        "# Se concatena el nombre de departamento y municipio para el df de homicidios\n",
        "dept_mun_df = []\n",
        "for depto, mun in zip(df['Departamento'], df['Municipio']):\n",
        "  df_concat = depto+','+mun\n",
        "  dept_mun_df.append(df_concat)"
      ],
      "execution_count": 12,
      "outputs": []
    },
    {
      "cell_type": "code",
      "metadata": {
        "colab": {
          "base_uri": "https://localhost:8080/",
          "height": 204
        },
        "id": "-QBP0jGVzeMF",
        "outputId": "01594a05-f7c1-4646-b1b1-0f7095f9a752"
      },
      "source": [
        "#Agrega la columna concatenada\n",
        "dm_df_series = pd.Series(dept_mun_df)\n",
        "df['dept_mun_str'] = dm_df_series.values\n",
        "df.head()"
      ],
      "execution_count": 13,
      "outputs": [
        {
          "output_type": "execute_result",
          "data": {
            "text/html": [
              "<div>\n",
              "<style scoped>\n",
              "    .dataframe tbody tr th:only-of-type {\n",
              "        vertical-align: middle;\n",
              "    }\n",
              "\n",
              "    .dataframe tbody tr th {\n",
              "        vertical-align: top;\n",
              "    }\n",
              "\n",
              "    .dataframe thead th {\n",
              "        text-align: right;\n",
              "    }\n",
              "</style>\n",
              "<table border=\"1\" class=\"dataframe\">\n",
              "  <thead>\n",
              "    <tr style=\"text-align: right;\">\n",
              "      <th></th>\n",
              "      <th>Año</th>\n",
              "      <th>Municipio</th>\n",
              "      <th>Departamento</th>\n",
              "      <th>dept_mun_str</th>\n",
              "    </tr>\n",
              "  </thead>\n",
              "  <tbody>\n",
              "    <tr>\n",
              "      <th>0</th>\n",
              "      <td>2008</td>\n",
              "      <td>TACUBA</td>\n",
              "      <td>AHUACHAPAN</td>\n",
              "      <td>AHUACHAPAN,TACUBA</td>\n",
              "    </tr>\n",
              "    <tr>\n",
              "      <th>1</th>\n",
              "      <td>2008</td>\n",
              "      <td>CHALCHUAPA</td>\n",
              "      <td>SANTA ANA</td>\n",
              "      <td>SANTA ANA,CHALCHUAPA</td>\n",
              "    </tr>\n",
              "    <tr>\n",
              "      <th>2</th>\n",
              "      <td>2008</td>\n",
              "      <td>SANTA ANA</td>\n",
              "      <td>SANTA ANA</td>\n",
              "      <td>SANTA ANA,SANTA ANA</td>\n",
              "    </tr>\n",
              "    <tr>\n",
              "      <th>4</th>\n",
              "      <td>2008</td>\n",
              "      <td>YUCUAIQUIN</td>\n",
              "      <td>LA UNION</td>\n",
              "      <td>LA UNION,YUCUAIQUIN</td>\n",
              "    </tr>\n",
              "    <tr>\n",
              "      <th>5</th>\n",
              "      <td>2008</td>\n",
              "      <td>TONACATEPEQUE</td>\n",
              "      <td>SAN SALVADOR</td>\n",
              "      <td>SAN SALVADOR,TONACATEPEQUE</td>\n",
              "    </tr>\n",
              "  </tbody>\n",
              "</table>\n",
              "</div>"
            ],
            "text/plain": [
              "    Año      Municipio  Departamento                dept_mun_str\n",
              "0  2008         TACUBA    AHUACHAPAN           AHUACHAPAN,TACUBA\n",
              "1  2008     CHALCHUAPA     SANTA ANA        SANTA ANA,CHALCHUAPA\n",
              "2  2008      SANTA ANA     SANTA ANA         SANTA ANA,SANTA ANA\n",
              "4  2008     YUCUAIQUIN      LA UNION         LA UNION,YUCUAIQUIN\n",
              "5  2008  TONACATEPEQUE  SAN SALVADOR  SAN SALVADOR,TONACATEPEQUE"
            ]
          },
          "metadata": {
            "tags": []
          },
          "execution_count": 13
        }
      ]
    },
    {
      "cell_type": "code",
      "metadata": {
        "colab": {
          "base_uri": "https://localhost:8080/",
          "height": 204
        },
        "id": "2KSxm_bQ0B6u",
        "outputId": "b7c95450-0e30-4d86-9bd2-8df2d695cdda"
      },
      "source": [
        "#Se eliminan otras columnas innecesarias\n",
        "df = df.drop(['Municipio', 'Departamento'], axis=1)\n",
        "df.head()"
      ],
      "execution_count": 14,
      "outputs": [
        {
          "output_type": "execute_result",
          "data": {
            "text/html": [
              "<div>\n",
              "<style scoped>\n",
              "    .dataframe tbody tr th:only-of-type {\n",
              "        vertical-align: middle;\n",
              "    }\n",
              "\n",
              "    .dataframe tbody tr th {\n",
              "        vertical-align: top;\n",
              "    }\n",
              "\n",
              "    .dataframe thead th {\n",
              "        text-align: right;\n",
              "    }\n",
              "</style>\n",
              "<table border=\"1\" class=\"dataframe\">\n",
              "  <thead>\n",
              "    <tr style=\"text-align: right;\">\n",
              "      <th></th>\n",
              "      <th>Año</th>\n",
              "      <th>dept_mun_str</th>\n",
              "    </tr>\n",
              "  </thead>\n",
              "  <tbody>\n",
              "    <tr>\n",
              "      <th>0</th>\n",
              "      <td>2008</td>\n",
              "      <td>AHUACHAPAN,TACUBA</td>\n",
              "    </tr>\n",
              "    <tr>\n",
              "      <th>1</th>\n",
              "      <td>2008</td>\n",
              "      <td>SANTA ANA,CHALCHUAPA</td>\n",
              "    </tr>\n",
              "    <tr>\n",
              "      <th>2</th>\n",
              "      <td>2008</td>\n",
              "      <td>SANTA ANA,SANTA ANA</td>\n",
              "    </tr>\n",
              "    <tr>\n",
              "      <th>4</th>\n",
              "      <td>2008</td>\n",
              "      <td>LA UNION,YUCUAIQUIN</td>\n",
              "    </tr>\n",
              "    <tr>\n",
              "      <th>5</th>\n",
              "      <td>2008</td>\n",
              "      <td>SAN SALVADOR,TONACATEPEQUE</td>\n",
              "    </tr>\n",
              "  </tbody>\n",
              "</table>\n",
              "</div>"
            ],
            "text/plain": [
              "    Año                dept_mun_str\n",
              "0  2008           AHUACHAPAN,TACUBA\n",
              "1  2008        SANTA ANA,CHALCHUAPA\n",
              "2  2008         SANTA ANA,SANTA ANA\n",
              "4  2008         LA UNION,YUCUAIQUIN\n",
              "5  2008  SAN SALVADOR,TONACATEPEQUE"
            ]
          },
          "metadata": {
            "tags": []
          },
          "execution_count": 14
        }
      ]
    },
    {
      "cell_type": "code",
      "metadata": {
        "id": "Dgx_H4JCA34Y"
      },
      "source": [
        "#Creamos una copia de la columna año para hacer el count()\n",
        "df[\"AñoAux\"] = df[\"Año\"]"
      ],
      "execution_count": 15,
      "outputs": []
    },
    {
      "cell_type": "code",
      "metadata": {
        "id": "7PVPgnYaBXGa"
      },
      "source": [
        "#Guardamos el df agrupado para luego asignar los totales a cada fila del df original\n",
        "df_g = df.groupby(['dept_mun_str', 'Año']).count()"
      ],
      "execution_count": 16,
      "outputs": []
    },
    {
      "cell_type": "code",
      "metadata": {
        "colab": {
          "base_uri": "https://localhost:8080/",
          "height": 204
        },
        "id": "MyJz5-6jBZMx",
        "outputId": "15c0388f-0e74-40f4-e063-b87cf002dbed"
      },
      "source": [
        "#Creamos la columna de total y la asignamos al df\n",
        "total_array = []\n",
        "for deptmun, año in zip(df[\"dept_mun_str\"], df[\"Año\"]):\n",
        "  total_array.append(df_g.loc[deptmun,año].AñoAux)\n",
        "\n",
        "total_values = pd.Series(total_array)\n",
        "df['Total'] = total_values.values\n",
        "df.head()"
      ],
      "execution_count": 17,
      "outputs": [
        {
          "output_type": "execute_result",
          "data": {
            "text/html": [
              "<div>\n",
              "<style scoped>\n",
              "    .dataframe tbody tr th:only-of-type {\n",
              "        vertical-align: middle;\n",
              "    }\n",
              "\n",
              "    .dataframe tbody tr th {\n",
              "        vertical-align: top;\n",
              "    }\n",
              "\n",
              "    .dataframe thead th {\n",
              "        text-align: right;\n",
              "    }\n",
              "</style>\n",
              "<table border=\"1\" class=\"dataframe\">\n",
              "  <thead>\n",
              "    <tr style=\"text-align: right;\">\n",
              "      <th></th>\n",
              "      <th>Año</th>\n",
              "      <th>dept_mun_str</th>\n",
              "      <th>AñoAux</th>\n",
              "      <th>Total</th>\n",
              "    </tr>\n",
              "  </thead>\n",
              "  <tbody>\n",
              "    <tr>\n",
              "      <th>0</th>\n",
              "      <td>2008</td>\n",
              "      <td>AHUACHAPAN,TACUBA</td>\n",
              "      <td>2008</td>\n",
              "      <td>10</td>\n",
              "    </tr>\n",
              "    <tr>\n",
              "      <th>1</th>\n",
              "      <td>2008</td>\n",
              "      <td>SANTA ANA,CHALCHUAPA</td>\n",
              "      <td>2008</td>\n",
              "      <td>57</td>\n",
              "    </tr>\n",
              "    <tr>\n",
              "      <th>2</th>\n",
              "      <td>2008</td>\n",
              "      <td>SANTA ANA,SANTA ANA</td>\n",
              "      <td>2008</td>\n",
              "      <td>176</td>\n",
              "    </tr>\n",
              "    <tr>\n",
              "      <th>4</th>\n",
              "      <td>2008</td>\n",
              "      <td>LA UNION,YUCUAIQUIN</td>\n",
              "      <td>2008</td>\n",
              "      <td>1</td>\n",
              "    </tr>\n",
              "    <tr>\n",
              "      <th>5</th>\n",
              "      <td>2008</td>\n",
              "      <td>SAN SALVADOR,TONACATEPEQUE</td>\n",
              "      <td>2008</td>\n",
              "      <td>49</td>\n",
              "    </tr>\n",
              "  </tbody>\n",
              "</table>\n",
              "</div>"
            ],
            "text/plain": [
              "    Año                dept_mun_str  AñoAux  Total\n",
              "0  2008           AHUACHAPAN,TACUBA    2008     10\n",
              "1  2008        SANTA ANA,CHALCHUAPA    2008     57\n",
              "2  2008         SANTA ANA,SANTA ANA    2008    176\n",
              "4  2008         LA UNION,YUCUAIQUIN    2008      1\n",
              "5  2008  SAN SALVADOR,TONACATEPEQUE    2008     49"
            ]
          },
          "metadata": {
            "tags": []
          },
          "execution_count": 17
        }
      ]
    },
    {
      "cell_type": "code",
      "metadata": {
        "colab": {
          "base_uri": "https://localhost:8080/",
          "height": 204
        },
        "id": "1x3YgB8pBfGJ",
        "outputId": "e5d3bd87-607f-40e6-b417-0c6b357b0b33"
      },
      "source": [
        "#Elimina la columna auxiliar\n",
        "df.drop(['AñoAux'], axis = 1, inplace=True)\n",
        "df.head()"
      ],
      "execution_count": 18,
      "outputs": [
        {
          "output_type": "execute_result",
          "data": {
            "text/html": [
              "<div>\n",
              "<style scoped>\n",
              "    .dataframe tbody tr th:only-of-type {\n",
              "        vertical-align: middle;\n",
              "    }\n",
              "\n",
              "    .dataframe tbody tr th {\n",
              "        vertical-align: top;\n",
              "    }\n",
              "\n",
              "    .dataframe thead th {\n",
              "        text-align: right;\n",
              "    }\n",
              "</style>\n",
              "<table border=\"1\" class=\"dataframe\">\n",
              "  <thead>\n",
              "    <tr style=\"text-align: right;\">\n",
              "      <th></th>\n",
              "      <th>Año</th>\n",
              "      <th>dept_mun_str</th>\n",
              "      <th>Total</th>\n",
              "    </tr>\n",
              "  </thead>\n",
              "  <tbody>\n",
              "    <tr>\n",
              "      <th>0</th>\n",
              "      <td>2008</td>\n",
              "      <td>AHUACHAPAN,TACUBA</td>\n",
              "      <td>10</td>\n",
              "    </tr>\n",
              "    <tr>\n",
              "      <th>1</th>\n",
              "      <td>2008</td>\n",
              "      <td>SANTA ANA,CHALCHUAPA</td>\n",
              "      <td>57</td>\n",
              "    </tr>\n",
              "    <tr>\n",
              "      <th>2</th>\n",
              "      <td>2008</td>\n",
              "      <td>SANTA ANA,SANTA ANA</td>\n",
              "      <td>176</td>\n",
              "    </tr>\n",
              "    <tr>\n",
              "      <th>4</th>\n",
              "      <td>2008</td>\n",
              "      <td>LA UNION,YUCUAIQUIN</td>\n",
              "      <td>1</td>\n",
              "    </tr>\n",
              "    <tr>\n",
              "      <th>5</th>\n",
              "      <td>2008</td>\n",
              "      <td>SAN SALVADOR,TONACATEPEQUE</td>\n",
              "      <td>49</td>\n",
              "    </tr>\n",
              "  </tbody>\n",
              "</table>\n",
              "</div>"
            ],
            "text/plain": [
              "    Año                dept_mun_str  Total\n",
              "0  2008           AHUACHAPAN,TACUBA     10\n",
              "1  2008        SANTA ANA,CHALCHUAPA     57\n",
              "2  2008         SANTA ANA,SANTA ANA    176\n",
              "4  2008         LA UNION,YUCUAIQUIN      1\n",
              "5  2008  SAN SALVADOR,TONACATEPEQUE     49"
            ]
          },
          "metadata": {
            "tags": []
          },
          "execution_count": 18
        }
      ]
    },
    {
      "cell_type": "code",
      "metadata": {
        "id": "Wi_gSa7509Cn"
      },
      "source": [
        "# Se agrega el codigo de depto_mun para categorizar el municipio\n",
        "encodes_array = []\n",
        "for dm in df[\"dept_mun_str\"]:\n",
        "  i = dept_mun_array.index(dm)\n",
        "  encodes_array.append(i)"
      ],
      "execution_count": 19,
      "outputs": []
    },
    {
      "cell_type": "code",
      "metadata": {
        "colab": {
          "base_uri": "https://localhost:8080/",
          "height": 204
        },
        "id": "-089i5re1bQo",
        "outputId": "381baebc-fdda-4d51-dedb-5b2881d413df"
      },
      "source": [
        "# Se agrega la columna de valores de categorias al df\n",
        "encoded_series = pd.Series(encodes_array)\n",
        "df['Municipio_encode'] = encoded_series.values\n",
        "df.head()"
      ],
      "execution_count": 20,
      "outputs": [
        {
          "output_type": "execute_result",
          "data": {
            "text/html": [
              "<div>\n",
              "<style scoped>\n",
              "    .dataframe tbody tr th:only-of-type {\n",
              "        vertical-align: middle;\n",
              "    }\n",
              "\n",
              "    .dataframe tbody tr th {\n",
              "        vertical-align: top;\n",
              "    }\n",
              "\n",
              "    .dataframe thead th {\n",
              "        text-align: right;\n",
              "    }\n",
              "</style>\n",
              "<table border=\"1\" class=\"dataframe\">\n",
              "  <thead>\n",
              "    <tr style=\"text-align: right;\">\n",
              "      <th></th>\n",
              "      <th>Año</th>\n",
              "      <th>dept_mun_str</th>\n",
              "      <th>Total</th>\n",
              "      <th>Municipio_encode</th>\n",
              "    </tr>\n",
              "  </thead>\n",
              "  <tbody>\n",
              "    <tr>\n",
              "      <th>0</th>\n",
              "      <td>2008</td>\n",
              "      <td>AHUACHAPAN,TACUBA</td>\n",
              "      <td>10</td>\n",
              "      <td>236</td>\n",
              "    </tr>\n",
              "    <tr>\n",
              "      <th>1</th>\n",
              "      <td>2008</td>\n",
              "      <td>SANTA ANA,CHALCHUAPA</td>\n",
              "      <td>57</td>\n",
              "      <td>26</td>\n",
              "    </tr>\n",
              "    <tr>\n",
              "      <th>2</th>\n",
              "      <td>2008</td>\n",
              "      <td>SANTA ANA,SANTA ANA</td>\n",
              "      <td>176</td>\n",
              "      <td>208</td>\n",
              "    </tr>\n",
              "    <tr>\n",
              "      <th>4</th>\n",
              "      <td>2008</td>\n",
              "      <td>LA UNION,YUCUAIQUIN</td>\n",
              "      <td>1</td>\n",
              "      <td>259</td>\n",
              "    </tr>\n",
              "    <tr>\n",
              "      <th>5</th>\n",
              "      <td>2008</td>\n",
              "      <td>SAN SALVADOR,TONACATEPEQUE</td>\n",
              "      <td>49</td>\n",
              "      <td>249</td>\n",
              "    </tr>\n",
              "  </tbody>\n",
              "</table>\n",
              "</div>"
            ],
            "text/plain": [
              "    Año                dept_mun_str  Total  Municipio_encode\n",
              "0  2008           AHUACHAPAN,TACUBA     10               236\n",
              "1  2008        SANTA ANA,CHALCHUAPA     57                26\n",
              "2  2008         SANTA ANA,SANTA ANA    176               208\n",
              "4  2008         LA UNION,YUCUAIQUIN      1               259\n",
              "5  2008  SAN SALVADOR,TONACATEPEQUE     49               249"
            ]
          },
          "metadata": {
            "tags": []
          },
          "execution_count": 20
        }
      ]
    },
    {
      "cell_type": "code",
      "metadata": {
        "colab": {
          "base_uri": "https://localhost:8080/",
          "height": 204
        },
        "id": "y8TZYK6qBvgZ",
        "outputId": "00c3d365-3183-42c1-bc3d-d1dd1fdbbc7f"
      },
      "source": [
        "#Eliminamos la columna dept_mun_str para el df final y convertimos los tipos de datos\n",
        "final_df = df.drop(['dept_mun_str'], axis = 1, inplace=False)\n",
        "final_df = final_df.convert_dtypes()\n",
        "final_df.head()"
      ],
      "execution_count": 21,
      "outputs": [
        {
          "output_type": "execute_result",
          "data": {
            "text/html": [
              "<div>\n",
              "<style scoped>\n",
              "    .dataframe tbody tr th:only-of-type {\n",
              "        vertical-align: middle;\n",
              "    }\n",
              "\n",
              "    .dataframe tbody tr th {\n",
              "        vertical-align: top;\n",
              "    }\n",
              "\n",
              "    .dataframe thead th {\n",
              "        text-align: right;\n",
              "    }\n",
              "</style>\n",
              "<table border=\"1\" class=\"dataframe\">\n",
              "  <thead>\n",
              "    <tr style=\"text-align: right;\">\n",
              "      <th></th>\n",
              "      <th>Año</th>\n",
              "      <th>Total</th>\n",
              "      <th>Municipio_encode</th>\n",
              "    </tr>\n",
              "  </thead>\n",
              "  <tbody>\n",
              "    <tr>\n",
              "      <th>0</th>\n",
              "      <td>2008</td>\n",
              "      <td>10</td>\n",
              "      <td>236</td>\n",
              "    </tr>\n",
              "    <tr>\n",
              "      <th>1</th>\n",
              "      <td>2008</td>\n",
              "      <td>57</td>\n",
              "      <td>26</td>\n",
              "    </tr>\n",
              "    <tr>\n",
              "      <th>2</th>\n",
              "      <td>2008</td>\n",
              "      <td>176</td>\n",
              "      <td>208</td>\n",
              "    </tr>\n",
              "    <tr>\n",
              "      <th>4</th>\n",
              "      <td>2008</td>\n",
              "      <td>1</td>\n",
              "      <td>259</td>\n",
              "    </tr>\n",
              "    <tr>\n",
              "      <th>5</th>\n",
              "      <td>2008</td>\n",
              "      <td>49</td>\n",
              "      <td>249</td>\n",
              "    </tr>\n",
              "  </tbody>\n",
              "</table>\n",
              "</div>"
            ],
            "text/plain": [
              "    Año  Total  Municipio_encode\n",
              "0  2008     10               236\n",
              "1  2008     57                26\n",
              "2  2008    176               208\n",
              "4  2008      1               259\n",
              "5  2008     49               249"
            ]
          },
          "metadata": {
            "tags": []
          },
          "execution_count": 21
        }
      ]
    },
    {
      "cell_type": "markdown",
      "metadata": {
        "id": "OzORRpiYixeO"
      },
      "source": [
        "## **3. Gráfico de totales por año.**\n",
        "Se grafica la nube de puntos que tenemos en el dataset, donde se puede percibir que hay una gran variabilidad entre los datos, y que probablemente no sigan ningún tipo de tendencia."
      ]
    },
    {
      "cell_type": "code",
      "metadata": {
        "colab": {
          "base_uri": "https://localhost:8080/",
          "height": 279
        },
        "id": "m08v5CXfB7Vk",
        "outputId": "1d12ff7a-3960-4c11-c957-5b95de8d29f9"
      },
      "source": [
        "# Graficamos el total de homicidios por año para evaluar la 'tendencia'\n",
        "final_df.plot(x ='Año', y='Total', kind = 'scatter', color =\"red\")\n",
        "plt.show()"
      ],
      "execution_count": 22,
      "outputs": [
        {
          "output_type": "display_data",
          "data": {
            "image/png": "[encoded data removed]",
            "text/plain": [
              "<Figure size 432x288 with 1 Axes>"
            ]
          },
          "metadata": {
            "tags": [],
            "needs_background": "light"
          }
        }
      ]
    },
    {
      "cell_type": "markdown",
      "metadata": {
        "id": "zmmUGGSwk4F_"
      },
      "source": [
        "## **4. Modelo de predicción de cantidad de homicidos**\n",
        "El objetivo del modelo es determinar si a través de un año y municipio es posible encontrar un patrón o relación histórica con las cantidad (total) de homicidios en el mismo."
      ]
    },
    {
      "cell_type": "code",
      "metadata": {
        "id": "7RkwGvg7C9YK"
      },
      "source": [
        "#Definimos las variables x e y, dado un año y municipio se busca predecir cuandos homicidios habran\n",
        "x = final_df[['Año', 'Municipio_encode']]\n",
        "y = final_df[['Total']]"
      ],
      "execution_count": 23,
      "outputs": []
    },
    {
      "cell_type": "code",
      "metadata": {
        "id": "tFs99cvjCtEh"
      },
      "source": [
        "#Separamos el data set en 80% train y 20% test\n",
        "from sklearn.model_selection import  train_test_split\n",
        "x_train, x_test, y_train, y_test = train_test_split(x,y, test_size=0.2, random_state=42)"
      ],
      "execution_count": 24,
      "outputs": []
    },
    {
      "cell_type": "markdown",
      "metadata": {
        "id": "3aSJueB6lBSt"
      },
      "source": [
        "#### **Epsilon-Support Vector Regression con kernel Radial basis function (rbf)**"
      ]
    },
    {
      "cell_type": "code",
      "metadata": {
        "id": "ui-LEY_0NzJR"
      },
      "source": [
        "#Aplicamos el algoritmo de Epsilon-Support Vector Regression\n",
        "from sklearn.svm import SVR\n",
        "\n",
        "svr_rbf = SVR(kernel='rbf', C=100, gamma=0.1, epsilon=.1)\n",
        "svr_rbf.fit(x_train,y_train.values.ravel())\n",
        "\n",
        "y_pred_rbf = svr_rbf.predict(x_test)"
      ],
      "execution_count": 25,
      "outputs": []
    },
    {
      "cell_type": "markdown",
      "metadata": {
        "id": "jmpyrHYZl1s2"
      },
      "source": [
        "Se obtiene un coeficiente de correlación ($R^2$) de 92.43% al entrenar el modelo y de un 91.99% al predecir los valores de $y$ comparado con los valores reales del dataset."
      ]
    },
    {
      "cell_type": "code",
      "metadata": {
        "colab": {
          "base_uri": "https://localhost:8080/"
        },
        "id": "3B7nHbfyGEi-",
        "outputId": "d59d184e-2ff2-44a8-9f2a-dc5c349b1b10"
      },
      "source": [
        "#Obtenemos el coeficiente de determinacion para evaluar cuanto se ajusta el modelo\n",
        "from sklearn.metrics import r2_score\n",
        "\n",
        "r2_score_train = svr_rbf.score(x_train,y_train)\n",
        "print('R^2 train: '+str(r2_score_train))\n",
        "\n",
        "r2_score_test = r2_score(y_test,y_pred_rbf)\n",
        "print('R^2 test: '+str(r2_score_test))"
      ],
      "execution_count": 26,
      "outputs": [
        {
          "output_type": "stream",
          "text": [
            "R^2 train: 0.9242704128518364\n",
            "R^2 test: 0.9198923297110021\n"
          ],
          "name": "stdout"
        }
      ]
    },
    {
      "cell_type": "markdown",
      "metadata": {
        "id": "X07OlgLqnlkk"
      },
      "source": [
        "### **Guardar el modelo**"
      ]
    },
    {
      "cell_type": "code",
      "metadata": {
        "colab": {
          "base_uri": "https://localhost:8080/"
        },
        "id": "uNnYqcPy-hEM",
        "outputId": "e58a96d3-ce7a-4288-b032-aa8fdafa1e2f"
      },
      "source": [
        "#Se guarda el modelo\n",
        "import joblib\n",
        "\n",
        "filename_model = 'modelo_rbf.pkl'\n",
        "joblib.dump(svr_rbf, filename_model)"
      ],
      "execution_count": 27,
      "outputs": [
        {
          "output_type": "execute_result",
          "data": {
            "text/plain": [
              "['modelo_rbf.pkl']"
            ]
          },
          "metadata": {
            "tags": []
          },
          "execution_count": 27
        }
      ]
    },
    {
      "cell_type": "code",
      "metadata": {
        "colab": {
          "base_uri": "https://localhost:8080/"
        },
        "id": "whvVQ9G12gt2",
        "outputId": "d34fed49-7f4e-4782-d263-5930f57c8fa3"
      },
      "source": [
        "#Se guarda el diccionario que contiene el codigo de categoria como key y como value la concatenacion del departamento y municipio\n",
        "filename_dict = 'encode_mun.pkl'\n",
        "joblib.dump(encode_dict, filename_dict)"
      ],
      "execution_count": 28,
      "outputs": [
        {
          "output_type": "execute_result",
          "data": {
            "text/plain": [
              "['encode_mun.pkl']"
            ]
          },
          "metadata": {
            "tags": []
          },
          "execution_count": 28
        }
      ]
    },
    {
      "cell_type": "code",
      "metadata": {
        "colab": {
          "base_uri": "https://localhost:8080/"
        },
        "id": "3qWXtwa---K6",
        "outputId": "3dddc2cd-664d-4f2e-9c6b-a8fc4c90a135"
      },
      "source": [
        "#Se carga el modelo guardado para verificar su correcto funcionamiento\n",
        "loaded_model = joblib.load(filename_model)\n",
        "y_load = loaded_model.predict(x_test)\n",
        "\n",
        "print(r2_score(y_test, y_load))"
      ],
      "execution_count": 29,
      "outputs": [
        {
          "output_type": "stream",
          "text": [
            "0.9198923297110021\n"
          ],
          "name": "stdout"
        }
      ]
    },
    {
      "cell_type": "code",
      "metadata": {
        "colab": {
          "base_uri": "https://localhost:8080/"
        },
        "id": "KdE-Hdrb3srH",
        "outputId": "f186904f-69cb-4c4e-9b74-d49dd0fce4ec"
      },
      "source": [
        "#Se carga el diccionario guardado\n",
        "loaded_dict = joblib.load(filename_dict)\n",
        "\n",
        "print(loaded_dict)"
      ],
      "execution_count": 30,
      "outputs": [
        {
          "output_type": "stream",
          "text": [
            "{0: 'SONSONATE,ACAJUTLA', 1: 'CHALATENANGO,AGUA CALIENTE', 2: 'SAN SALVADOR,AGUILARES', 3: 'AHUACHAPAN,AHUACHAPAN', 4: 'USULUTAN,ALEGRIA', 5: 'LA UNION,ANAMOROS', 6: 'LA LIBERTAD,ANTIGUO CUSCATLAN', 7: 'AHUACHAPAN,APANECA', 8: 'SAN VICENTE,APASTEPEQUE', 9: 'SAN SALVADOR,APOPA', 10: 'MORAZAN,ARAMBALA', 11: 'CHALATENANGO,ARCATAO', 12: 'SONSONATE,ARMENIA', 13: 'AHUACHAPAN,ATIQUIZAYA', 14: 'SAN SALVADOR,AYUTUXTEPEQUE', 15: 'CHALATENANGO,AZACUALPA', 16: 'USULUTAN,BERLIN', 17: 'LA UNION,BOLIVAR', 18: 'MORAZAN,CACAOPERA', 19: 'USULUTAN,CALIFORNIA', 20: 'SONSONATE,CALUCO', 21: 'CHALATENANGO,CANCASQUE', 22: 'CUSCATLAN,CANDELARIA', 23: 'SANTA ANA,CANDELARIA DE LA FRONTERA', 24: 'SAN MIGUEL,CAROLINA', 25: 'CHALATENANGO,CHALATENANGO', 26: 'SANTA ANA,CHALCHUAPA', 27: 'SAN MIGUEL,CHAPELTIQUE', 28: 'MORAZAN,CHILANGA', 29: 'LA LIBERTAD,CHILTIUPAN', 30: 'SAN MIGUEL,CHINAMECA', 31: 'SAN MIGUEL,CHIRILAGUA', 32: 'CABANAS,CINQUERA', 33: 'CHALATENANGO,CITALA', 34: 'LA LIBERTAD,CIUDAD ARCE', 35: 'SAN MIGUEL,CIUDAD BARRIOS', 36: 'SANTA ANA,COATEPEQUE', 37: 'CUSCATLAN,COJUTEPEQUE', 38: 'LA LIBERTAD,COLON', 39: 'SAN MIGUEL,COMACARAN', 40: 'CHALATENANGO,COMALAPA', 41: 'LA LIBERTAD,COMASAGUA', 42: 'USULUTAN,CONCEPCION BATRES', 43: 'AHUACHAPAN,CONCEPCION DE ATACO', 44: 'LA UNION,CONCEPCION DE ORIENTE', 45: 'CHALATENANGO,CONCEPCION QUEZALTEPEQUE', 46: 'LA UNION,CONCHAGUA', 47: 'MORAZAN,CORINTO', 48: 'SONSONATE,CUISNAHUAT', 49: 'SAN SALVADOR,CUSCATANCINGO', 50: 'LA PAZ,CUYULTITAN', 51: 'SAN SALVADOR,DELGADO', 52: 'MORAZAN,DELICIAS DE CONCEPCION', 53: 'CABANAS,DOLORES', 54: 'CHALATENANGO,DULCE NOMBRE DE MARIA', 55: 'LA UNION,EL CARMEN', 56: 'CUSCATLAN,EL CARMEN', 57: 'CHALATENANGO,EL CARRIZAL', 58: 'SANTA ANA,EL CONGO', 59: 'MORAZAN,EL DIVISADERO', 60: 'SAN SALVADOR,EL PAISNAL', 61: 'CHALATENANGO,EL PARAISO', 62: 'SANTA ANA,EL PORVENIR', 63: 'AHUACHAPAN,EL REFUGIO', 64: 'MORAZAN,EL ROSARIO', 65: 'LA PAZ,EL ROSARIO', 66: 'CUSCATLAN,EL ROSARIO', 67: 'LA UNION,EL SAUCE', 68: 'SAN MIGUEL,EL TRANSITO', 69: 'USULUTAN,EL TRIUNFO', 70: 'USULUTAN,EREGUAYQUIN', 71: 'USULUTAN,ESTANZUELAS', 72: 'CABANAS,GUACOTECTI', 73: 'SAN VICENTE,GUADALUPE', 74: 'MORAZAN,GUALOCOCTI', 75: 'MORAZAN,GUATAJIAGUA', 76: 'AHUACHAPAN,GUAYMANGO', 77: 'SAN SALVADOR,GUAZAPA', 78: 'LA LIBERTAD,HUIZUCAR', 79: 'CABANAS,ILOBASCO', 80: 'SAN SALVADOR,ILOPANGO', 81: 'LA UNION,INTIPUCA', 82: 'SONSONATE,IZALCO', 83: 'LA LIBERTAD,JAYAQUE', 84: 'LA PAZ,JERUSALEN', 85: 'LA LIBERTAD,JICALAPA', 86: 'USULUTAN,JIQUILISCO', 87: 'MORAZAN,JOATECA', 88: 'MORAZAN,JOCOAITIQUE', 89: 'MORAZAN,JOCORO', 90: 'SONSONATE,JUAYUA', 91: 'USULUTAN,JUCUAPA', 92: 'USULUTAN,JUCUARAN', 93: 'AHUACHAPAN,JUJUTLA', 94: 'CABANAS,JUTIAPA', 95: 'CHALATENANGO,LA LAGUNA', 96: 'LA LIBERTAD,LA LIBERTAD', 97: 'CHALATENANGO,LA PALMA', 98: 'CHALATENANGO,LA REINA', 99: 'LA UNION,LA UNION', 100: 'CHALATENANGO,LAS FLORES', 101: 'CHALATENANGO,LAS VUELTAS', 102: 'LA UNION,LISLIQUE', 103: 'SAN MIGUEL,LOLOTIQUE', 104: 'MORAZAN,LOLOTIQUILLO', 105: 'SANTA ANA,MASAHUAT', 106: 'MORAZAN,MEANGUERA', 107: 'LA UNION,MEANGUERA DEL GOLFO', 108: 'SAN SALVADOR,MEJICANOS', 109: 'LA PAZ,MERCEDES LA CEIBA', 110: 'USULUTAN,MERCEDES UMANA', 111: 'SANTA ANA,METAPAN', 112: 'SAN MIGUEL,MONCAGUA', 113: 'CUSCATLAN,MONTE SAN JUAN', 114: 'SONSONATE,NAHUIZALCO', 115: 'SONSONATE,NAHULINGO', 116: 'SAN SALVADOR,NEJAPA', 117: 'CHALATENANGO,NOMBRE DE JESUS', 118: 'CHALATENANGO,NUEVA CONCEPCION', 119: 'LA UNION,NUEVA ESPARTA', 120: 'USULUTAN,NUEVA GRANADA', 121: 'SAN MIGUEL,NUEVA GUADALUPE', 122: 'CHALATENANGO,NUEVA TRINIDAD', 123: 'LA LIBERTAD,NUEVO CUSCATLAN', 124: 'SAN MIGUEL,NUEVO EDEN DE SAN JUAN', 125: 'CHALATENANGO,OJOS DE AGUA', 126: 'LA PAZ,OLOCUILTA', 127: 'CUSCATLAN,ORATORIO DE CONCEPCION', 128: 'MORAZAN,OSICALA', 129: 'USULUTAN,OZATLAN', 130: 'SAN SALVADOR,PANCHIMALCO', 131: 'LA PAZ,PARAISO DE OSORIO', 132: 'LA UNION,PASAQUINA', 133: 'MORAZAN,PERQUIN', 134: 'LA UNION,POLOROS', 135: 'CHALATENANGO,POTONICO', 136: 'USULUTAN,PUERTO EL TRIUNFO', 137: 'SAN MIGUEL,QUELEPA', 138: 'LA LIBERTAD,QUEZALTEPEQUE', 139: 'SAN SALVADOR,ROSARIO DE MORA', 140: 'LA LIBERTAD,SACACOYO', 141: 'SONSONATE,SALCOATITAN', 142: 'USULUTAN,SAN AGUSTIN', 143: 'LA UNION,SAN ALEJO', 144: 'SAN MIGUEL,SAN ANTONIO', 145: 'CHALATENANGO,SAN ANTONIO DE LA CRUZ', 146: 'SONSONATE,SAN ANTONIO DEL MONTE', 147: 'CHALATENANGO,SAN ANTONIO LOS RANCHOS', 148: 'LA PAZ,SAN ANTONIO MASAHUAT', 149: 'SANTA ANA,SAN ANTONIO PAJONAL', 150: 'CUSCATLAN,SAN BARTOLOME PERULAPIA', 151: 'USULUTAN,SAN BUENA VENTURA', 152: 'MORAZAN,SAN CARLOS', 153: 'SAN VICENTE,SAN CAYETANO ISTEPEQUE', 154: 'CUSCATLAN,SAN CRISTOBAL', 155: 'USULUTAN,SAN DIONISIO', 156: 'LA PAZ,SAN EMIGDIO', 157: 'SAN VICENTE,SAN ESTEBAN CATARINA', 158: 'CHALATENANGO,SAN FERNANDO', 159: 'MORAZAN,SAN FERNANDO', 160: 'LA PAZ,SAN FRANCISCO CHINAMECA', 161: 'MORAZAN,SAN FRANCISCO GOTERA', 162: 'USULUTAN,SAN FRANCISCO JAVIER', 163: 'CHALATENANGO,SAN FRANCISCO LEMPA', 164: 'AHUACHAPAN,SAN FRANCISCO MENENDEZ', 165: 'CHALATENANGO,SAN FRANCISCO MORAZAN', 166: 'SAN MIGUEL,SAN GERARDO', 167: 'CHALATENANGO,SAN IGNACIO', 168: 'SAN VICENTE,SAN ILDEFONSO', 169: 'MORAZAN,SAN ISIDRO', 170: 'CABANAS,SAN ISIDRO', 171: 'CHALATENANGO,SAN ISIDRO LABRADOR', 172: 'SAN MIGUEL,SAN JORGE', 173: 'LA UNION,SAN JOSE', 174: 'CUSCATLAN,SAN JOSE GUAYABAL', 175: 'LA LIBERTAD,SAN JOSE VILLANUEVA', 176: 'LA PAZ,SAN JUAN NONUALCO', 177: 'LA LIBERTAD,SAN JUAN OPICO', 178: 'LA PAZ,SAN JUAN TALPA', 179: 'LA PAZ,SAN JUAN TEPEZONTES', 180: 'SONSONATE,SAN JULIAN', 181: 'SAN VICENTE,SAN LORENZO', 182: 'AHUACHAPAN,SAN LORENZO', 183: 'SAN MIGUEL,SAN LUIS DE LA REINA', 184: 'CHALATENANGO,SAN LUIS DEL CARMEN', 185: 'LA PAZ,SAN LUIS LA HERRADURA', 186: 'LA PAZ,SAN LUIS TALPA', 187: 'SAN SALVADOR,SAN MARCOS', 188: 'SAN SALVADOR,SAN MARTIN', 189: 'LA LIBERTAD,SAN MATIAS', 190: 'SAN MIGUEL,SAN MIGUEL', 191: 'CHALATENANGO,SAN MIGUEL DE MERCEDES', 192: 'LA PAZ,SAN MIGUEL TEPEZONTES', 193: 'LA LIBERTAD,SAN PABLO TACACHICO', 194: 'LA PAZ,SAN PEDRO MASAHUAT', 195: 'LA PAZ,SAN PEDRO NONUALCO', 196: 'CUSCATLAN,SAN PEDRO PERULAPAN', 197: 'AHUACHAPAN,SAN PEDRO PUXTLA', 198: 'CHALATENANGO,SAN RAFAEL', 199: 'CUSCATLAN,SAN RAFAEL CEDROS', 200: 'LA PAZ,SAN RAFAEL OBRAJUELO', 201: 'SAN MIGUEL,SAN RAFAEL ORIENTE', 202: 'CUSCATLAN,SAN RAMON', 203: 'SAN SALVADOR,SAN SALVADOR', 204: 'SAN VICENTE,SAN SEBASTIAN', 205: 'SANTA ANA,SAN SEBASTIAN SALITRILLO', 206: 'MORAZAN,SAN SIMON', 207: 'SAN VICENTE,SAN VICENTE', 208: 'SANTA ANA,SANTA ANA', 209: 'SONSONATE,SANTA CATARINA MASAHUAT', 210: 'SAN VICENTE,SANTA CLARA', 211: 'CUSCATLAN,SANTA CRUZ ANALQUITO', 212: 'CUSCATLAN,SANTA CRUZ MICHAPA', 213: 'USULUTAN,SANTA ELENA', 214: 'SONSONATE,SANTA ISABEL ISHUATAN', 215: 'USULUTAN,SANTA MARIA', 216: 'LA PAZ,SANTA MARIA OSTUMA', 217: 'CHALATENANGO,SANTA RITA', 218: 'LA UNION,SANTA ROSA DE LIMA', 219: 'SANTA ANA,SANTA ROSA GUACHIPILIN', 220: 'LA LIBERTAD,SANTA TECLA', 221: 'SANTA ANA,SANTIAGO DE LA FRONTERA', 222: 'USULUTAN,SANTIAGO DE MARIA', 223: 'LA PAZ,SANTIAGO NONUALCO', 224: 'SAN SALVADOR,SANTIAGO TEXACUANGOS', 225: 'SAN VICENTE,SANTO DOMINGO', 226: 'SONSONATE,SANTO DOMINGO DE GUZMAN', 227: 'SAN SALVADOR,SANTO TOMAS', 228: 'MORAZAN,SENSEMBRA', 229: 'CABANAS,SENSUNTEPEQUE', 230: 'SAN MIGUEL,SESORI', 231: 'MORAZAN,SOCIEDAD', 232: 'SONSONATE,SONSONATE', 233: 'SONSONATE,SONZACATE', 234: 'SAN SALVADOR,SOYAPANGO', 235: 'CUSCATLAN,SUCHITOTO', 236: 'AHUACHAPAN,TACUBA', 237: 'LA LIBERTAD,TALNIQUE', 238: 'LA LIBERTAD,TAMANIQUE', 239: 'LA PAZ,TAPALHUACA', 240: 'USULUTAN,TECAPAN', 241: 'SAN VICENTE,TECOLUCA', 242: 'CABANAS,TEJUTEPEQUE', 243: 'CHALATENANGO,TEJUTLA', 244: 'CUSCATLAN,TENANCINGO', 245: 'LA LIBERTAD,TEOTEPEQUE', 246: 'LA LIBERTAD,TEPECOYO', 247: 'SAN VICENTE,TEPETITAN', 248: 'SANTA ANA,TEXISTEPEQUE', 249: 'SAN SALVADOR,TONACATEPEQUE', 250: 'MORAZAN,TOROLA', 251: 'AHUACHAPAN,TURIN', 252: 'SAN MIGUEL,ULUAZAPA', 253: 'USULUTAN,USULUTAN', 254: 'SAN VICENTE,VERAPAZ', 255: 'CABANAS,VICTORIA', 256: 'MORAZAN,YAMABAL', 257: 'LA UNION,YAYANTIQUE', 258: 'MORAZAN,YOLOAIQUIN', 259: 'LA UNION,YUCUAIQUIN', 260: 'LA PAZ,ZACATECOLUCA', 261: 'LA LIBERTAD,ZARAGOZA'}\n"
          ],
          "name": "stdout"
        }
      ]
    }
  ]
}