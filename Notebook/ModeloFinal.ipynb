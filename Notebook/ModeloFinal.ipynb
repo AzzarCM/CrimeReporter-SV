{
  "nbformat": 4,
  "nbformat_minor": 0,
  "metadata": {
    "colab": {
      "name": "ModeloFinal.ipynb",
      "provenance": [],
      "collapsed_sections": []
    },
    "kernelspec": {
      "name": "python3",
      "display_name": "Python 3"
    },
    "language_info": {
      "name": "python"
    }
  },
  "cells": [
    {
      "cell_type": "markdown",
      "metadata": {
        "id": "3xvyJJchfpZm"
      },
      "source": [
        "# **Predicción de homicidios por municipio**"
      ]
    },
    {
      "cell_type": "markdown",
      "metadata": {
        "id": "cIWgWeXlgJi2"
      },
      "source": [
        "### **Librerias para generación y visualización del dataset**"
      ]
    },
    {
      "cell_type": "code",
      "metadata": {
        "colab": {
          "base_uri": "https://localhost:8080/"
        },
        "id": "HzkiwLdAgF2O",
        "outputId": "90bfc9a8-6a06-49b9-b019-b0662cffc13a"
      },
      "source": [
        "# Importando librerias necesarias para la creación del dataset\n",
        "import matplotlib.pyplot as plt\n",
        "import pandas as pd\n",
        "import numpy as np\n",
        "\n",
        "#Accede a Google Drive para importar los datos, los cuales provienen de una recopilación de bases de datos de indices de criminalidad en el triangulo norte\n",
        "from google.colab import drive\n",
        "drive.mount('/content/drive')"
      ],
      "execution_count": 1,
      "outputs": [
        {
          "output_type": "stream",
          "text": [
            "Drive already mounted at /content/drive; to attempt to forcibly remount, call drive.mount(\"/content/drive\", force_remount=True).\n"
          ],
          "name": "stdout"
        }
      ]
    },
    {
      "cell_type": "code",
      "metadata": {
        "colab": {
          "base_uri": "https://localhost:8080/"
        },
        "id": "8rT4T7-YgBaV",
        "outputId": "a80a0e59-99e4-49ae-8105-8c39bcea89c9"
      },
      "source": [
        "from google.colab import drive\n",
        "drive.mount('/content/drive')"
      ],
      "execution_count": 2,
      "outputs": [
        {
          "output_type": "stream",
          "text": [
            "Drive already mounted at /content/drive; to attempt to forcibly remount, call drive.mount(\"/content/drive\", force_remount=True).\n"
          ],
          "name": "stdout"
        }
      ]
    },
    {
      "cell_type": "markdown",
      "metadata": {
        "id": "bgfb7tDdgvP_"
      },
      "source": [
        "## **1. Recopilación de datos**\n",
        "Los datos han sido extraidos de un archivo CSV recuperados de una [recopilación de Bases de Datos sobre indicadores de criminalidad y justicia en el triángulo norte](https://www.aas.jjay.cuny.edu/single-post/base-de-datos?fbclid=IwAR3Itx49fRZJoazPUPWYLpASA3bag7UjRUCzey4pvtec5O9mjdwG9QLboUE), a la cual se puede acceder en el enlace.\n",
        "\n",
        "**Referencia**: Academy for Security Analysis, John Jay College of Criminal Justice. (2020). *Recopilación de Bases de Datos sobre indicadores de criminalidad y justicia en El Salvador, Guatemala y Honduras*.\n",
        "\n",
        "Por ser información pública también ha sido anexado para facilitar su consulta."
      ]
    },
    {
      "cell_type": "code",
      "metadata": {
        "colab": {
          "base_uri": "https://localhost:8080/",
          "height": 292
        },
        "id": "xbdC5-2mAkqj",
        "outputId": "8f6967d6-a5f4-4eae-e7fc-67c062f58a34"
      },
      "source": [
        "#Importando datos de CSV\n",
        "#Referencia: Academy for Security Analysis, John Jay College of Criminal Justice. (2020). Recopilación de Bases de Datos sobre indicadores de criminalidad y justicia en El Salvador, Guatemala y Honduras.\n",
        "df = pd.read_csv(\"drive/My Drive/IMLHom.csv\")\n",
        "print(len(df))\n",
        "df.head()"
      ],
      "execution_count": 3,
      "outputs": [
        {
          "output_type": "stream",
          "text": [
            "44208\n"
          ],
          "name": "stdout"
        },
        {
          "output_type": "execute_result",
          "data": {
            "text/html": [
              "<div>\n",
              "<style scoped>\n",
              "    .dataframe tbody tr th:only-of-type {\n",
              "        vertical-align: middle;\n",
              "    }\n",
              "\n",
              "    .dataframe tbody tr th {\n",
              "        vertical-align: top;\n",
              "    }\n",
              "\n",
              "    .dataframe thead th {\n",
              "        text-align: right;\n",
              "    }\n",
              "</style>\n",
              "<table border=\"1\" class=\"dataframe\">\n",
              "  <thead>\n",
              "    <tr style=\"text-align: right;\">\n",
              "      <th></th>\n",
              "      <th>NoTotal</th>\n",
              "      <th>Año</th>\n",
              "      <th>N</th>\n",
              "      <th>Mes</th>\n",
              "      <th>Fecha</th>\n",
              "      <th>Fecha_Completa</th>\n",
              "      <th>Dia</th>\n",
              "      <th>Hora</th>\n",
              "      <th>Rango_Horario</th>\n",
              "      <th>Sexo</th>\n",
              "      <th>Edad</th>\n",
              "      <th>Rango_Edad</th>\n",
              "      <th>Municipio</th>\n",
              "      <th>Departamento</th>\n",
              "      <th>Clasificacion_Arma</th>\n",
              "      <th>Tipo_Arma</th>\n",
              "      <th>Codigo_Departamento</th>\n",
              "      <th>Codigo_Municipio</th>\n",
              "    </tr>\n",
              "  </thead>\n",
              "  <tbody>\n",
              "    <tr>\n",
              "      <th>0</th>\n",
              "      <td>1</td>\n",
              "      <td>2008</td>\n",
              "      <td>1</td>\n",
              "      <td>1</td>\n",
              "      <td>02/01</td>\n",
              "      <td>1/2/2008</td>\n",
              "      <td>Miercoles</td>\n",
              "      <td>1250</td>\n",
              "      <td>4</td>\n",
              "      <td>M</td>\n",
              "      <td>33</td>\n",
              "      <td>4</td>\n",
              "      <td>TACUBA</td>\n",
              "      <td>AHUACHAPAN</td>\n",
              "      <td>4</td>\n",
              "      <td>ASF X ESTRANGULACION</td>\n",
              "      <td>1</td>\n",
              "      <td>111</td>\n",
              "    </tr>\n",
              "    <tr>\n",
              "      <th>1</th>\n",
              "      <td>2</td>\n",
              "      <td>2008</td>\n",
              "      <td>2</td>\n",
              "      <td>1</td>\n",
              "      <td>02/01</td>\n",
              "      <td>1/2/2008</td>\n",
              "      <td>Miercoles</td>\n",
              "      <td>1900</td>\n",
              "      <td>5</td>\n",
              "      <td>M</td>\n",
              "      <td>43</td>\n",
              "      <td>5</td>\n",
              "      <td>CHALCHUAPA</td>\n",
              "      <td>SANTA ANA</td>\n",
              "      <td>5</td>\n",
              "      <td>OBJETO CONTUNDENTE</td>\n",
              "      <td>2</td>\n",
              "      <td>203</td>\n",
              "    </tr>\n",
              "    <tr>\n",
              "      <th>2</th>\n",
              "      <td>3</td>\n",
              "      <td>2008</td>\n",
              "      <td>3</td>\n",
              "      <td>1</td>\n",
              "      <td>02/01</td>\n",
              "      <td>1/2/2008</td>\n",
              "      <td>Miercoles</td>\n",
              "      <td>420</td>\n",
              "      <td>2</td>\n",
              "      <td>M</td>\n",
              "      <td>40</td>\n",
              "      <td>4</td>\n",
              "      <td>SANTA ANA</td>\n",
              "      <td>SANTA ANA</td>\n",
              "      <td>5</td>\n",
              "      <td>OBJETO CONTUNDENTE</td>\n",
              "      <td>2</td>\n",
              "      <td>210</td>\n",
              "    </tr>\n",
              "    <tr>\n",
              "      <th>3</th>\n",
              "      <td>4</td>\n",
              "      <td>2008</td>\n",
              "      <td>4</td>\n",
              "      <td>1</td>\n",
              "      <td>02/01</td>\n",
              "      <td>1/2/2008</td>\n",
              "      <td>Miercoles</td>\n",
              "      <td>550</td>\n",
              "      <td>2</td>\n",
              "      <td>M</td>\n",
              "      <td>24</td>\n",
              "      <td>3</td>\n",
              "      <td>CHALCHUAPA</td>\n",
              "      <td>SANTA ANA</td>\n",
              "      <td>2</td>\n",
              "      <td>BLANCA SIN ESPEC.</td>\n",
              "      <td>2</td>\n",
              "      <td>203</td>\n",
              "    </tr>\n",
              "    <tr>\n",
              "      <th>4</th>\n",
              "      <td>5</td>\n",
              "      <td>2008</td>\n",
              "      <td>5</td>\n",
              "      <td>1</td>\n",
              "      <td>02/01</td>\n",
              "      <td>1/2/2008</td>\n",
              "      <td>Miercoles</td>\n",
              "      <td>600</td>\n",
              "      <td>2</td>\n",
              "      <td>M</td>\n",
              "      <td>36</td>\n",
              "      <td>4</td>\n",
              "      <td>YUCUAIQUIN</td>\n",
              "      <td>LA UNION</td>\n",
              "      <td>2</td>\n",
              "      <td>CORTOCONTUNDENTE</td>\n",
              "      <td>14</td>\n",
              "      <td>1418</td>\n",
              "    </tr>\n",
              "  </tbody>\n",
              "</table>\n",
              "</div>"
            ],
            "text/plain": [
              "   NoTotal   Año  ...  Codigo_Departamento  Codigo_Municipio\n",
              "0        1  2008  ...                    1               111\n",
              "1        2  2008  ...                    2               203\n",
              "2        3  2008  ...                    2               210\n",
              "3        4  2008  ...                    2               203\n",
              "4        5  2008  ...                   14              1418\n",
              "\n",
              "[5 rows x 18 columns]"
            ]
          },
          "metadata": {
            "tags": []
          },
          "execution_count": 3
        }
      ]
    },
    {
      "cell_type": "markdown",
      "metadata": {
        "id": "VAtxilXViVNl"
      },
      "source": [
        "## **2. Limpieza de datos**\n",
        "Se procede a eliminar las columnas de dataset que son innecesarias para el modelo, así como a modificar los tipos de datos del mismo.\n",
        "También se calcula el total de homicidios por año en cada municipio y se agrega esa nueva columna al dataset y finalmente se categorizan los nombres de los municipios."
      ]
    },
    {
      "cell_type": "code",
      "metadata": {
        "colab": {
          "base_uri": "https://localhost:8080/"
        },
        "id": "hhgTQbM4Al8p",
        "outputId": "23724460-2398-4210-c152-6d2d5f70a47f"
      },
      "source": [
        "#Modifica el df a solo homicidios con los 4 tipos de armas que tenian más registros: ARMA DE FUEGO o ASF X ESTRANGULACION o OBJETO CONTUNDENTE o CORTOCONTUNDENTE\n",
        "df = df[df.Tipo_Arma.str.contains('ARMA DE FUEGO|ASF X ESTRANGULACION|OBJETO CONTUNDENTE|CORTOCONTUNDENTE', regex=True)]\n",
        "print(len(df))"
      ],
      "execution_count": 4,
      "outputs": [
        {
          "output_type": "stream",
          "text": [
            "40483\n"
          ],
          "name": "stdout"
        }
      ]
    },
    {
      "cell_type": "code",
      "metadata": {
        "colab": {
          "base_uri": "https://localhost:8080/",
          "height": 204
        },
        "id": "WXDgE0TsAnLB",
        "outputId": "706b140b-9db9-4dcd-fec4-96bd86af0089"
      },
      "source": [
        "#Eliminamos las columnas innecesarias\n",
        "df = df.drop(['NoTotal', 'N', 'Mes', 'Fecha', 'Fecha_Completa', 'Dia','Hora', 'Rango_Horario', 'Departamento', 'Codigo_Departamento', 'Codigo_Municipio', 'Rango_Edad', 'Clasificacion_Arma', 'Edad', 'Sexo', 'Tipo_Arma'], axis=1)\n",
        "df.head()"
      ],
      "execution_count": 5,
      "outputs": [
        {
          "output_type": "execute_result",
          "data": {
            "text/html": [
              "<div>\n",
              "<style scoped>\n",
              "    .dataframe tbody tr th:only-of-type {\n",
              "        vertical-align: middle;\n",
              "    }\n",
              "\n",
              "    .dataframe tbody tr th {\n",
              "        vertical-align: top;\n",
              "    }\n",
              "\n",
              "    .dataframe thead th {\n",
              "        text-align: right;\n",
              "    }\n",
              "</style>\n",
              "<table border=\"1\" class=\"dataframe\">\n",
              "  <thead>\n",
              "    <tr style=\"text-align: right;\">\n",
              "      <th></th>\n",
              "      <th>Año</th>\n",
              "      <th>Municipio</th>\n",
              "    </tr>\n",
              "  </thead>\n",
              "  <tbody>\n",
              "    <tr>\n",
              "      <th>0</th>\n",
              "      <td>2008</td>\n",
              "      <td>TACUBA</td>\n",
              "    </tr>\n",
              "    <tr>\n",
              "      <th>1</th>\n",
              "      <td>2008</td>\n",
              "      <td>CHALCHUAPA</td>\n",
              "    </tr>\n",
              "    <tr>\n",
              "      <th>2</th>\n",
              "      <td>2008</td>\n",
              "      <td>SANTA ANA</td>\n",
              "    </tr>\n",
              "    <tr>\n",
              "      <th>4</th>\n",
              "      <td>2008</td>\n",
              "      <td>YUCUAIQUIN</td>\n",
              "    </tr>\n",
              "    <tr>\n",
              "      <th>5</th>\n",
              "      <td>2008</td>\n",
              "      <td>TONACATEPEQUE</td>\n",
              "    </tr>\n",
              "  </tbody>\n",
              "</table>\n",
              "</div>"
            ],
            "text/plain": [
              "    Año      Municipio\n",
              "0  2008         TACUBA\n",
              "1  2008     CHALCHUAPA\n",
              "2  2008      SANTA ANA\n",
              "4  2008     YUCUAIQUIN\n",
              "5  2008  TONACATEPEQUE"
            ]
          },
          "metadata": {
            "tags": []
          },
          "execution_count": 5
        }
      ]
    },
    {
      "cell_type": "code",
      "metadata": {
        "colab": {
          "base_uri": "https://localhost:8080/"
        },
        "id": "N0VHp2sNA18C",
        "outputId": "5a776359-f000-46e1-b3e6-eb11cd60e728"
      },
      "source": [
        "#Parseamos los tipos de datos\n",
        "df = df.convert_dtypes()\n",
        "df.info()"
      ],
      "execution_count": 6,
      "outputs": [
        {
          "output_type": "stream",
          "text": [
            "<class 'pandas.core.frame.DataFrame'>\n",
            "Int64Index: 40483 entries, 0 to 44207\n",
            "Data columns (total 2 columns):\n",
            " #   Column     Non-Null Count  Dtype \n",
            "---  ------     --------------  ----- \n",
            " 0   Año        40483 non-null  Int64 \n",
            " 1   Municipio  40483 non-null  string\n",
            "dtypes: Int64(1), string(1)\n",
            "memory usage: 988.4 KB\n"
          ],
          "name": "stdout"
        }
      ]
    },
    {
      "cell_type": "code",
      "metadata": {
        "id": "Dgx_H4JCA34Y"
      },
      "source": [
        "#Creamos una copia d la columna año para hacer el count()\n",
        "df[\"AñoAux\"] = df[\"Año\"]"
      ],
      "execution_count": 7,
      "outputs": []
    },
    {
      "cell_type": "code",
      "metadata": {
        "id": "7PVPgnYaBXGa"
      },
      "source": [
        "#Guardamos el df agrupado para luego asignar los totales a cada fila del df\n",
        "df_g = df.groupby(['Municipio', 'Año']).count()"
      ],
      "execution_count": 8,
      "outputs": []
    },
    {
      "cell_type": "code",
      "metadata": {
        "colab": {
          "base_uri": "https://localhost:8080/",
          "height": 204
        },
        "id": "MyJz5-6jBZMx",
        "outputId": "010ffe1a-b11a-453c-ec5c-5ad8a9e0e91c"
      },
      "source": [
        "#Creamos la columna de total y la asignamos al df\n",
        "totalArray = []\n",
        "for municipio, año in zip(df[\"Municipio\"], df[\"Año\"]):\n",
        "  totalArray.append(df_g.loc[municipio,año].AñoAux)\n",
        "\n",
        "totalValues = pd.Series(totalArray)\n",
        "df['Total'] = totalValues.values\n",
        "df.head()"
      ],
      "execution_count": 9,
      "outputs": [
        {
          "output_type": "execute_result",
          "data": {
            "text/html": [
              "<div>\n",
              "<style scoped>\n",
              "    .dataframe tbody tr th:only-of-type {\n",
              "        vertical-align: middle;\n",
              "    }\n",
              "\n",
              "    .dataframe tbody tr th {\n",
              "        vertical-align: top;\n",
              "    }\n",
              "\n",
              "    .dataframe thead th {\n",
              "        text-align: right;\n",
              "    }\n",
              "</style>\n",
              "<table border=\"1\" class=\"dataframe\">\n",
              "  <thead>\n",
              "    <tr style=\"text-align: right;\">\n",
              "      <th></th>\n",
              "      <th>Año</th>\n",
              "      <th>Municipio</th>\n",
              "      <th>AñoAux</th>\n",
              "      <th>Total</th>\n",
              "    </tr>\n",
              "  </thead>\n",
              "  <tbody>\n",
              "    <tr>\n",
              "      <th>0</th>\n",
              "      <td>2008</td>\n",
              "      <td>TACUBA</td>\n",
              "      <td>2008</td>\n",
              "      <td>10</td>\n",
              "    </tr>\n",
              "    <tr>\n",
              "      <th>1</th>\n",
              "      <td>2008</td>\n",
              "      <td>CHALCHUAPA</td>\n",
              "      <td>2008</td>\n",
              "      <td>57</td>\n",
              "    </tr>\n",
              "    <tr>\n",
              "      <th>2</th>\n",
              "      <td>2008</td>\n",
              "      <td>SANTA ANA</td>\n",
              "      <td>2008</td>\n",
              "      <td>176</td>\n",
              "    </tr>\n",
              "    <tr>\n",
              "      <th>4</th>\n",
              "      <td>2008</td>\n",
              "      <td>YUCUAIQUIN</td>\n",
              "      <td>2008</td>\n",
              "      <td>1</td>\n",
              "    </tr>\n",
              "    <tr>\n",
              "      <th>5</th>\n",
              "      <td>2008</td>\n",
              "      <td>TONACATEPEQUE</td>\n",
              "      <td>2008</td>\n",
              "      <td>49</td>\n",
              "    </tr>\n",
              "  </tbody>\n",
              "</table>\n",
              "</div>"
            ],
            "text/plain": [
              "    Año      Municipio  AñoAux  Total\n",
              "0  2008         TACUBA    2008     10\n",
              "1  2008     CHALCHUAPA    2008     57\n",
              "2  2008      SANTA ANA    2008    176\n",
              "4  2008     YUCUAIQUIN    2008      1\n",
              "5  2008  TONACATEPEQUE    2008     49"
            ]
          },
          "metadata": {
            "tags": []
          },
          "execution_count": 9
        }
      ]
    },
    {
      "cell_type": "code",
      "metadata": {
        "colab": {
          "base_uri": "https://localhost:8080/",
          "height": 204
        },
        "id": "1x3YgB8pBfGJ",
        "outputId": "ec509f31-679e-4918-b76b-0963cd9f13f4"
      },
      "source": [
        "#Elimina la columna auxiliar\n",
        "df.drop(['AñoAux'], axis = 1, inplace=True)\n",
        "df.head()"
      ],
      "execution_count": 10,
      "outputs": [
        {
          "output_type": "execute_result",
          "data": {
            "text/html": [
              "<div>\n",
              "<style scoped>\n",
              "    .dataframe tbody tr th:only-of-type {\n",
              "        vertical-align: middle;\n",
              "    }\n",
              "\n",
              "    .dataframe tbody tr th {\n",
              "        vertical-align: top;\n",
              "    }\n",
              "\n",
              "    .dataframe thead th {\n",
              "        text-align: right;\n",
              "    }\n",
              "</style>\n",
              "<table border=\"1\" class=\"dataframe\">\n",
              "  <thead>\n",
              "    <tr style=\"text-align: right;\">\n",
              "      <th></th>\n",
              "      <th>Año</th>\n",
              "      <th>Municipio</th>\n",
              "      <th>Total</th>\n",
              "    </tr>\n",
              "  </thead>\n",
              "  <tbody>\n",
              "    <tr>\n",
              "      <th>0</th>\n",
              "      <td>2008</td>\n",
              "      <td>TACUBA</td>\n",
              "      <td>10</td>\n",
              "    </tr>\n",
              "    <tr>\n",
              "      <th>1</th>\n",
              "      <td>2008</td>\n",
              "      <td>CHALCHUAPA</td>\n",
              "      <td>57</td>\n",
              "    </tr>\n",
              "    <tr>\n",
              "      <th>2</th>\n",
              "      <td>2008</td>\n",
              "      <td>SANTA ANA</td>\n",
              "      <td>176</td>\n",
              "    </tr>\n",
              "    <tr>\n",
              "      <th>4</th>\n",
              "      <td>2008</td>\n",
              "      <td>YUCUAIQUIN</td>\n",
              "      <td>1</td>\n",
              "    </tr>\n",
              "    <tr>\n",
              "      <th>5</th>\n",
              "      <td>2008</td>\n",
              "      <td>TONACATEPEQUE</td>\n",
              "      <td>49</td>\n",
              "    </tr>\n",
              "  </tbody>\n",
              "</table>\n",
              "</div>"
            ],
            "text/plain": [
              "    Año      Municipio  Total\n",
              "0  2008         TACUBA     10\n",
              "1  2008     CHALCHUAPA     57\n",
              "2  2008      SANTA ANA    176\n",
              "4  2008     YUCUAIQUIN      1\n",
              "5  2008  TONACATEPEQUE     49"
            ]
          },
          "metadata": {
            "tags": []
          },
          "execution_count": 10
        }
      ]
    },
    {
      "cell_type": "code",
      "metadata": {
        "colab": {
          "base_uri": "https://localhost:8080/"
        },
        "id": "WTVWkud7BkPi",
        "outputId": "17b08358-c628-4e0c-b2f5-8c87ccad0d44"
      },
      "source": [
        "#Covierte la columna municipio a tipo categoria\n",
        "df[\"Municipio\"] = df[\"Municipio\"].astype('category')\n",
        "df.dtypes"
      ],
      "execution_count": 11,
      "outputs": [
        {
          "output_type": "execute_result",
          "data": {
            "text/plain": [
              "Año             Int64\n",
              "Municipio    category\n",
              "Total           int64\n",
              "dtype: object"
            ]
          },
          "metadata": {
            "tags": []
          },
          "execution_count": 11
        }
      ]
    },
    {
      "cell_type": "code",
      "metadata": {
        "colab": {
          "base_uri": "https://localhost:8080/",
          "height": 824
        },
        "id": "PwEy3TcOBnFp",
        "outputId": "0be09f4c-2241-47c1-803f-1835585c6d36"
      },
      "source": [
        "#Mapea el df asignando el codigo a los municipios que le corresponde\n",
        "df[\"Municipio_encode\"] = df[\"Municipio\"].cat.codes\n",
        "df.head(25)"
      ],
      "execution_count": 12,
      "outputs": [
        {
          "output_type": "execute_result",
          "data": {
            "text/html": [
              "<div>\n",
              "<style scoped>\n",
              "    .dataframe tbody tr th:only-of-type {\n",
              "        vertical-align: middle;\n",
              "    }\n",
              "\n",
              "    .dataframe tbody tr th {\n",
              "        vertical-align: top;\n",
              "    }\n",
              "\n",
              "    .dataframe thead th {\n",
              "        text-align: right;\n",
              "    }\n",
              "</style>\n",
              "<table border=\"1\" class=\"dataframe\">\n",
              "  <thead>\n",
              "    <tr style=\"text-align: right;\">\n",
              "      <th></th>\n",
              "      <th>Año</th>\n",
              "      <th>Municipio</th>\n",
              "      <th>Total</th>\n",
              "      <th>Municipio_encode</th>\n",
              "    </tr>\n",
              "  </thead>\n",
              "  <tbody>\n",
              "    <tr>\n",
              "      <th>0</th>\n",
              "      <td>2008</td>\n",
              "      <td>TACUBA</td>\n",
              "      <td>10</td>\n",
              "      <td>229</td>\n",
              "    </tr>\n",
              "    <tr>\n",
              "      <th>1</th>\n",
              "      <td>2008</td>\n",
              "      <td>CHALCHUAPA</td>\n",
              "      <td>57</td>\n",
              "      <td>25</td>\n",
              "    </tr>\n",
              "    <tr>\n",
              "      <th>2</th>\n",
              "      <td>2008</td>\n",
              "      <td>SANTA ANA</td>\n",
              "      <td>176</td>\n",
              "      <td>201</td>\n",
              "    </tr>\n",
              "    <tr>\n",
              "      <th>4</th>\n",
              "      <td>2008</td>\n",
              "      <td>YUCUAIQUIN</td>\n",
              "      <td>1</td>\n",
              "      <td>252</td>\n",
              "    </tr>\n",
              "    <tr>\n",
              "      <th>5</th>\n",
              "      <td>2008</td>\n",
              "      <td>TONACATEPEQUE</td>\n",
              "      <td>49</td>\n",
              "      <td>242</td>\n",
              "    </tr>\n",
              "    <tr>\n",
              "      <th>6</th>\n",
              "      <td>2008</td>\n",
              "      <td>SAN LUIS LA HERRADURA</td>\n",
              "      <td>2</td>\n",
              "      <td>178</td>\n",
              "    </tr>\n",
              "    <tr>\n",
              "      <th>8</th>\n",
              "      <td>2008</td>\n",
              "      <td>SAN MARTIN</td>\n",
              "      <td>54</td>\n",
              "      <td>181</td>\n",
              "    </tr>\n",
              "    <tr>\n",
              "      <th>10</th>\n",
              "      <td>2008</td>\n",
              "      <td>SAN SALVADOR</td>\n",
              "      <td>217</td>\n",
              "      <td>196</td>\n",
              "    </tr>\n",
              "    <tr>\n",
              "      <th>11</th>\n",
              "      <td>2008</td>\n",
              "      <td>SAN SALVADOR</td>\n",
              "      <td>217</td>\n",
              "      <td>196</td>\n",
              "    </tr>\n",
              "    <tr>\n",
              "      <th>12</th>\n",
              "      <td>2008</td>\n",
              "      <td>QUEZALTEPEQUE</td>\n",
              "      <td>80</td>\n",
              "      <td>133</td>\n",
              "    </tr>\n",
              "    <tr>\n",
              "      <th>13</th>\n",
              "      <td>2008</td>\n",
              "      <td>QUEZALTEPEQUE</td>\n",
              "      <td>80</td>\n",
              "      <td>133</td>\n",
              "    </tr>\n",
              "    <tr>\n",
              "      <th>14</th>\n",
              "      <td>2008</td>\n",
              "      <td>SAN CRISTOBAL</td>\n",
              "      <td>1</td>\n",
              "      <td>149</td>\n",
              "    </tr>\n",
              "    <tr>\n",
              "      <th>16</th>\n",
              "      <td>2008</td>\n",
              "      <td>SAN MIGUEL</td>\n",
              "      <td>146</td>\n",
              "      <td>183</td>\n",
              "    </tr>\n",
              "    <tr>\n",
              "      <th>18</th>\n",
              "      <td>2008</td>\n",
              "      <td>CIUDAD ARCE</td>\n",
              "      <td>42</td>\n",
              "      <td>33</td>\n",
              "    </tr>\n",
              "    <tr>\n",
              "      <th>19</th>\n",
              "      <td>2008</td>\n",
              "      <td>ILOBASCO</td>\n",
              "      <td>15</td>\n",
              "      <td>75</td>\n",
              "    </tr>\n",
              "    <tr>\n",
              "      <th>20</th>\n",
              "      <td>2008</td>\n",
              "      <td>CHALCHUAPA</td>\n",
              "      <td>57</td>\n",
              "      <td>25</td>\n",
              "    </tr>\n",
              "    <tr>\n",
              "      <th>21</th>\n",
              "      <td>2008</td>\n",
              "      <td>MONCAGUA</td>\n",
              "      <td>7</td>\n",
              "      <td>108</td>\n",
              "    </tr>\n",
              "    <tr>\n",
              "      <th>23</th>\n",
              "      <td>2008</td>\n",
              "      <td>SONSONATE</td>\n",
              "      <td>97</td>\n",
              "      <td>225</td>\n",
              "    </tr>\n",
              "    <tr>\n",
              "      <th>24</th>\n",
              "      <td>2008</td>\n",
              "      <td>CIUDAD DELGADO</td>\n",
              "      <td>56</td>\n",
              "      <td>35</td>\n",
              "    </tr>\n",
              "    <tr>\n",
              "      <th>25</th>\n",
              "      <td>2008</td>\n",
              "      <td>SAN MARCOS</td>\n",
              "      <td>35</td>\n",
              "      <td>180</td>\n",
              "    </tr>\n",
              "    <tr>\n",
              "      <th>26</th>\n",
              "      <td>2008</td>\n",
              "      <td>TONACATEPEQUE</td>\n",
              "      <td>49</td>\n",
              "      <td>242</td>\n",
              "    </tr>\n",
              "    <tr>\n",
              "      <th>27</th>\n",
              "      <td>2008</td>\n",
              "      <td>CIUDAD DELGADO</td>\n",
              "      <td>56</td>\n",
              "      <td>35</td>\n",
              "    </tr>\n",
              "    <tr>\n",
              "      <th>28</th>\n",
              "      <td>2008</td>\n",
              "      <td>ROSARIO DE MORA</td>\n",
              "      <td>17</td>\n",
              "      <td>134</td>\n",
              "    </tr>\n",
              "    <tr>\n",
              "      <th>29</th>\n",
              "      <td>2008</td>\n",
              "      <td>SAN JUAN OPICO</td>\n",
              "      <td>60</td>\n",
              "      <td>171</td>\n",
              "    </tr>\n",
              "    <tr>\n",
              "      <th>30</th>\n",
              "      <td>2008</td>\n",
              "      <td>JUCUAPA</td>\n",
              "      <td>10</td>\n",
              "      <td>87</td>\n",
              "    </tr>\n",
              "  </tbody>\n",
              "</table>\n",
              "</div>"
            ],
            "text/plain": [
              "     Año              Municipio  Total  Municipio_encode\n",
              "0   2008                 TACUBA     10               229\n",
              "1   2008             CHALCHUAPA     57                25\n",
              "2   2008              SANTA ANA    176               201\n",
              "4   2008             YUCUAIQUIN      1               252\n",
              "5   2008          TONACATEPEQUE     49               242\n",
              "6   2008  SAN LUIS LA HERRADURA      2               178\n",
              "8   2008             SAN MARTIN     54               181\n",
              "10  2008           SAN SALVADOR    217               196\n",
              "11  2008           SAN SALVADOR    217               196\n",
              "12  2008          QUEZALTEPEQUE     80               133\n",
              "13  2008          QUEZALTEPEQUE     80               133\n",
              "14  2008          SAN CRISTOBAL      1               149\n",
              "16  2008             SAN MIGUEL    146               183\n",
              "18  2008            CIUDAD ARCE     42                33\n",
              "19  2008               ILOBASCO     15                75\n",
              "20  2008             CHALCHUAPA     57                25\n",
              "21  2008               MONCAGUA      7               108\n",
              "23  2008              SONSONATE     97               225\n",
              "24  2008         CIUDAD DELGADO     56                35\n",
              "25  2008             SAN MARCOS     35               180\n",
              "26  2008          TONACATEPEQUE     49               242\n",
              "27  2008         CIUDAD DELGADO     56                35\n",
              "28  2008        ROSARIO DE MORA     17               134\n",
              "29  2008         SAN JUAN OPICO     60               171\n",
              "30  2008                JUCUAPA     10                87"
            ]
          },
          "metadata": {
            "tags": []
          },
          "execution_count": 12
        }
      ]
    },
    {
      "cell_type": "code",
      "metadata": {
        "colab": {
          "base_uri": "https://localhost:8080/"
        },
        "id": "I_QYB2_bBtMR",
        "outputId": "b0e95b0a-0acf-4e5f-e119-5bf781469f68"
      },
      "source": [
        "#Crea un diccionario donde relaciona los codigos de la categorias con el nombre del municipio\n",
        "municipiosDict = dict(zip(df['Municipio'].cat.codes, df['Municipio']))\n",
        "print(municipiosDict)"
      ],
      "execution_count": 13,
      "outputs": [
        {
          "output_type": "stream",
          "text": [
            "{229: 'TACUBA', 25: 'CHALCHUAPA', 201: 'SANTA ANA', 252: 'YUCUAIQUIN', 242: 'TONACATEPEQUE', 178: 'SAN LUIS LA HERRADURA', 181: 'SAN MARTIN', 196: 'SAN SALVADOR', 133: 'QUEZALTEPEQUE', 149: 'SAN CRISTOBAL', 183: 'SAN MIGUEL', 33: 'CIUDAD ARCE', 75: 'ILOBASCO', 108: 'MONCAGUA', 225: 'SONSONATE', 35: 'CIUDAD DELGADO', 180: 'SAN MARCOS', 134: 'ROSARIO DE MORA', 171: 'SAN JUAN OPICO', 87: 'JUCUAPA', 0: 'ACAJUTLA', 150: 'SAN DIONISIO', 36: 'COATEPEQUE', 110: 'NAHUILINGO', 9: 'APOPA', 103: 'MEJICANOS', 38: 'COLON', 246: 'USULUTAN', 47: 'CORINTO', 49: 'CUSCATANCINGO', 74: 'HUIZUCAR', 254: 'ZARAGOZA', 76: 'ILOPANGO', 227: 'SOYAPANGO', 198: 'SAN SEBASTIAN SALITRILLO', 12: 'ARMENIA', 112: 'NEJAPA', 135: 'SACACOYO', 6: 'ANTIGUO CUSCATLAN', 238: 'TEOTEPEQUE', 2: 'AGUILARES', 234: 'TECOLUCA', 37: 'COJUTEPEQUE', 189: 'SAN PEDRO PERULAPAN', 4: 'ALEGRIA', 78: 'IZALCO', 186: 'SAN PABLO TACACHICO', 211: 'SANTA ROSA DE LIMA', 169: 'SAN JOSE VILLANUEVA', 216: 'SANTIAGO NONUALCO', 253: 'ZACATECOLUCA', 1: 'AGUA CALIENTE', 99: 'LOLOTIQUILLO', 237: 'TENANCINGO', 187: 'SAN PEDRO MASAHUAT', 213: 'SANTA TECLA', 111: 'NAHUIZALCO', 67: 'ESTANZUELAS', 60: 'EL PORVENIR', 107: 'METAPAN', 29: 'CHINAMECA', 231: 'TAMANIQUE', 62: 'EL ROSARIO', 100: 'MASAHUAT', 3: 'AHUACHAPAN', 212: 'SANTA ROSA GUACHIPILIN', 114: 'NUEVA CONCEPCION', 226: 'SONZACATE', 217: 'SANTIAGO TEXACUANGOS', 132: 'QUELEPA', 77: 'INTIPUCA', 141: 'SAN ANTONIO DEL MONTE', 122: 'OLOCUILTA', 28: 'CHILTIUPAN', 82: 'JIQUILISCO', 58: 'EL PAISNAL', 155: 'SAN FRANCISCO GOTERA', 63: 'EL SAUCE', 158: 'SAN FRANCISCO MENENDEZ', 222: 'SENSUNTEPEQUE', 22: 'CANDELARIA DE LA FRONTERA', 224: 'SOCIEDAD', 239: 'TEPECOYO', 13: 'ATIQUIZAYA', 128: 'PASAQUINA', 109: 'MONTE SAN JUAN', 52: 'DOLORES', 241: 'TEXISTEPEQUE', 98: 'LOLOTIQUE', 95: 'LA UNION', 56: 'EL CONGO', 200: 'SAN VICENTE', 79: 'JAYAQUE', 34: 'CIUDAD BARRIOS', 14: 'AYUTUXTEPEQUE', 30: 'CHIRILAGUA', 92: 'LA LIBERTAD', 68: 'GUACOTECTI', 64: 'EL TRANSITO', 73: 'GUAZAPA', 228: 'SUCHITOTO', 43: 'CONCEPCION DE ATACO', 118: 'NUEVA GUADALUPE', 71: 'GUATAJIAGUA', 131: 'PUERTO EL TRIUNFO', 21: 'CANDELARIA', 205: 'SANTA CRUZ MICHAPA', 215: 'SANTIAGO DE MARIA', 24: 'CHALATENANGO', 220: 'SANTO TOMAS', 54: 'EL CARMEN', 179: 'SAN LUIS TALPA', 182: 'SAN MATIAS', 26: 'CHAPELTIQUE', 129: 'PERQUIN', 170: 'SAN JUAN NONUALCO', 218: 'SANTO DOMINGO', 197: 'SAN SEBASTIAN', 207: 'SANTA ISABEL ISHUATAN', 86: 'JUAYUA', 162: 'SAN ILDEFONSO', 45: 'CONCEPCION QUEZALTEPEQUE', 130: 'POLOROS', 168: 'SAN JOSE GUAYABAL', 11: 'ARCATAO', 46: 'CONCHAGUA', 199: 'SAN SIMON', 233: 'TECAPAN', 124: 'OSCICALA', 209: 'SANTA MARIA OSTUMA', 175: 'SAN LORENZO', 145: 'SAN BARTOLOME PERULAPIA', 61: 'EL REFUGIO', 152: 'SAN ESTEBAN CATARINA', 148: 'SAN CAYETANO ISTEPEQUE', 191: 'SAN RAFAEL', 126: 'PANCHIMALCO', 125: 'OZATLAN', 89: 'JUJUTLA', 172: 'SAN JUAN TALPA', 248: 'VICTORIA', 20: 'CALUCO', 208: 'SANTA MARIA', 154: 'SAN FRANCISCO CHINAMECA', 8: 'APASTEPEQUE', 72: 'GUAYMANGO', 40: 'COMALAPA', 165: 'SAN JORGE', 81: 'JICALAPA', 174: 'SAN JULIAN', 88: 'JUCUARAN', 247: 'VERAPAZ', 230: 'TALNIQUE', 138: 'SAN ALEJO', 18: 'CACAOPERA', 97: 'LISLIQUE', 41: 'COMASAGUA', 23: 'CAROLINA', 5: 'ANAMOROS', 116: 'NUEVA ESPARTA', 146: 'SAN BUENAVENTURA', 48: 'CUISNAHUAT', 42: 'CONCEPCION BATRES', 32: 'CITALA', 44: 'CONCEPCION DE ORIENTE', 236: 'TEJUTLA', 203: 'SANTA CLARA', 195: 'SAN RAMON', 244: 'TURIN', 27: 'CHILANGA', 192: 'SAN RAFAEL CEDROS', 70: 'GUALOCOCTI', 59: 'EL PARAISO', 94: 'LA REINA', 232: 'TAPALHUACA', 66: 'EREGUAYQUIN', 39: 'COMACARAN', 160: 'SAN GERARDO', 161: 'SAN IGNACIO', 120: 'NUEVO CUSCATLAN', 163: 'SAN ISIDRO', 235: 'TEJUTEPEQUE', 16: 'BERLIN', 194: 'SAN RAFAEL ORIENTE', 214: 'SANTIAGO DE LA FRONTERA', 202: 'SANTA CATARINA MASAHUAT', 69: 'GUADALUPE', 113: 'NOMBRE DE JESUS', 53: 'DULCE NOMBRE DE MARIA', 190: 'SAN PEDRO PUXTLA', 7: 'APANECA', 106: 'MERCEDES UMAÑA', 249: 'YAMABAL', 250: 'YAYANTIQUE', 188: 'SAN PEDRO NONUALCO', 85: 'JOCORO', 136: 'SALCOATITAN', 219: 'SANTO DOMINGO DE GUZMAN', 140: 'SAN ANTONIO DE LA CRUZ', 31: 'CINQUERA', 50: 'CUYULTITAN', 206: 'SANTA ELENA', 57: 'EL DIVISADERO', 55: 'EL CARRIZAL', 17: 'BOLIVAR', 121: 'OJOS DE AGUA', 147: 'SAN CARLOS', 193: 'SAN RAFAEL OBRAJUELO', 137: 'SAN AGUSTIN', 151: 'SAN EMIGDIO', 240: 'TEPETITAN', 243: 'TOROLA', 65: 'EL TRIUNFO', 166: 'SAN JOSE', 10: 'ARAMBALA', 15: 'AZACUALPA', 144: 'SAN ANTONIO PAJONAL', 90: 'JUTIAPA', 102: 'MEANGUERA DEL GOLFO', 93: 'LA PALMA', 156: 'SAN FRANCISCO JAVIER', 176: 'SAN LUIS DE LA REINA', 210: 'SANTA RITA', 117: 'NUEVA GRANADA', 142: 'SAN ANTONIO LOS RANCHOS', 184: 'SAN MIGUEL DE MERCEDES', 223: 'SESORI', 101: 'MEANGUERA', 123: 'ORATORIO DE CONCEPCION', 204: 'SANTA CRUZ ANALQUITO', 51: 'DELICIAS DE CONCEPCION', 143: 'SAN ANTONIO MASAHUAT', 91: 'LA LAGUNA', 185: 'SAN MIGUEL TEPEZONTES', 159: 'SAN FRANCISCO MORAZAN', 251: 'YOLOAIQUIN', 83: 'JOATECA', 139: 'SAN ANTONIO', 173: 'SAN JUAN TEPEZONTES', 96: 'LAS VUELTAS', 119: 'NUEVA TRINIDAD', 153: 'SAN FERNANDO', 80: 'JERUSALEN', 245: 'ULUAZAPA', 177: 'SAN LUIS DEL CARMEN', 105: 'MERCEDES LA CEIBA', 19: 'CALIFORNIA', 221: 'SENSEMBRA', 157: 'SAN FRANCISCO LEMPA', 127: 'PARAISO DE OSORIO', 164: 'SAN ISIDRO LABRADOR', 104: 'MERCEDES  LA CEIBA', 84: 'JOCOAITIQUE', 167: 'SAN JOSE CANCASQUE', 115: 'NUEVA EDEN DE SAN JUAN'}\n"
          ],
          "name": "stdout"
        }
      ]
    },
    {
      "cell_type": "code",
      "metadata": {
        "colab": {
          "base_uri": "https://localhost:8080/",
          "height": 204
        },
        "id": "y8TZYK6qBvgZ",
        "outputId": "a382fb23-c59e-4de6-93d5-8e7a30be2d1b"
      },
      "source": [
        "#Eliminamos la columna municipio para el df final\n",
        "final_df = df.drop(['Municipio'], axis = 1, inplace=False)\n",
        "final_df.head()"
      ],
      "execution_count": 14,
      "outputs": [
        {
          "output_type": "execute_result",
          "data": {
            "text/html": [
              "<div>\n",
              "<style scoped>\n",
              "    .dataframe tbody tr th:only-of-type {\n",
              "        vertical-align: middle;\n",
              "    }\n",
              "\n",
              "    .dataframe tbody tr th {\n",
              "        vertical-align: top;\n",
              "    }\n",
              "\n",
              "    .dataframe thead th {\n",
              "        text-align: right;\n",
              "    }\n",
              "</style>\n",
              "<table border=\"1\" class=\"dataframe\">\n",
              "  <thead>\n",
              "    <tr style=\"text-align: right;\">\n",
              "      <th></th>\n",
              "      <th>Año</th>\n",
              "      <th>Total</th>\n",
              "      <th>Municipio_encode</th>\n",
              "    </tr>\n",
              "  </thead>\n",
              "  <tbody>\n",
              "    <tr>\n",
              "      <th>0</th>\n",
              "      <td>2008</td>\n",
              "      <td>10</td>\n",
              "      <td>229</td>\n",
              "    </tr>\n",
              "    <tr>\n",
              "      <th>1</th>\n",
              "      <td>2008</td>\n",
              "      <td>57</td>\n",
              "      <td>25</td>\n",
              "    </tr>\n",
              "    <tr>\n",
              "      <th>2</th>\n",
              "      <td>2008</td>\n",
              "      <td>176</td>\n",
              "      <td>201</td>\n",
              "    </tr>\n",
              "    <tr>\n",
              "      <th>4</th>\n",
              "      <td>2008</td>\n",
              "      <td>1</td>\n",
              "      <td>252</td>\n",
              "    </tr>\n",
              "    <tr>\n",
              "      <th>5</th>\n",
              "      <td>2008</td>\n",
              "      <td>49</td>\n",
              "      <td>242</td>\n",
              "    </tr>\n",
              "  </tbody>\n",
              "</table>\n",
              "</div>"
            ],
            "text/plain": [
              "    Año  Total  Municipio_encode\n",
              "0  2008     10               229\n",
              "1  2008     57                25\n",
              "2  2008    176               201\n",
              "4  2008      1               252\n",
              "5  2008     49               242"
            ]
          },
          "metadata": {
            "tags": []
          },
          "execution_count": 14
        }
      ]
    },
    {
      "cell_type": "markdown",
      "metadata": {
        "id": "OzORRpiYixeO"
      },
      "source": [
        "## **3. Gráfico de totales por año.**\n",
        "Se grafica la nube de puntos que tenemos en el dataset, donde se puede percibir que hay una gran variabilidad entre los datos, y que probablemente no sigan ningún tipo de tendencia."
      ]
    },
    {
      "cell_type": "code",
      "metadata": {
        "colab": {
          "base_uri": "https://localhost:8080/",
          "height": 279
        },
        "id": "m08v5CXfB7Vk",
        "outputId": "16450789-6c51-42d0-a04a-eb10912f25f3"
      },
      "source": [
        "# Graficamos el total de homicidios por año para evaluar la 'tendencia'\n",
        "final_df.plot(x ='Año', y='Total', kind = 'scatter')\n",
        "plt.show()"
      ],
      "execution_count": 15,
      "outputs": [
        {
          "output_type": "display_data",
          "data": {
            "image/png": "[encoded data removed]",
            "text/plain": [
              "<Figure size 432x288 with 1 Axes>"
            ]
          },
          "metadata": {
            "tags": [],
            "needs_background": "light"
          }
        }
      ]
    },
    {
      "cell_type": "markdown",
      "metadata": {
        "id": "zmmUGGSwk4F_"
      },
      "source": [
        "## **4. Modelo de predicción de cantidad de homicidos**\n",
        "El objetivo del modelo es determinar si a través de un año y municipio es posible encontrar un patrón o relación histórica con las cantidad (total) de homicidios en el mismo."
      ]
    },
    {
      "cell_type": "code",
      "metadata": {
        "id": "7RkwGvg7C9YK"
      },
      "source": [
        "#Definimos las variables x e y, dado un año y municipio se busca predecir cuandos homicidios habran\n",
        "x = final_df[['Año', 'Municipio_encode']]\n",
        "y = final_df[['Total']]"
      ],
      "execution_count": 16,
      "outputs": []
    },
    {
      "cell_type": "code",
      "metadata": {
        "id": "tFs99cvjCtEh"
      },
      "source": [
        "#Separamos el data set en 80% train y 20% test\n",
        "from sklearn.model_selection import  train_test_split\n",
        "x_train, x_test, y_train, y_test = train_test_split(x,y, test_size=0.2, random_state=42)"
      ],
      "execution_count": 17,
      "outputs": []
    },
    {
      "cell_type": "markdown",
      "metadata": {
        "id": "3aSJueB6lBSt"
      },
      "source": [
        "#### **Epsilon-Support Vector Regression con kernel Radial basis function (rbf)**"
      ]
    },
    {
      "cell_type": "code",
      "metadata": {
        "id": "ui-LEY_0NzJR"
      },
      "source": [
        "#Aplicamos el algoritmo de Epsilon-Support Vector Regression\n",
        "from sklearn.svm import SVR\n",
        "\n",
        "svr_rbf = SVR(kernel='rbf', C=100, gamma=0.1, epsilon=.1)\n",
        "svr_rbf.fit(x_train,y_train.values.ravel())\n",
        "\n",
        "y_pred_rbf = svr_rbf.predict(x_test)"
      ],
      "execution_count": 18,
      "outputs": []
    },
    {
      "cell_type": "markdown",
      "metadata": {
        "id": "jmpyrHYZl1s2"
      },
      "source": [
        "Se obtiene un coeficiente de correlación ($R^2$) de 92.26% al entrenar el modelo y de un 91.92% al predecir los valores de $y$ comparado con los valores reales del dataset."
      ]
    },
    {
      "cell_type": "code",
      "metadata": {
        "colab": {
          "base_uri": "https://localhost:8080/"
        },
        "id": "3B7nHbfyGEi-",
        "outputId": "69562093-c55b-4c4a-f8c9-b99d2ab7016c"
      },
      "source": [
        "#Obtenemos el coeficiente de determinacion para evaluar cuanto se ajusta el modelo\n",
        "from sklearn.metrics import r2_score\n",
        "\n",
        "r2_score_train = svr_rbf.score(x_train,y_train)\n",
        "print('R^2 train: '+str(r2_score_train))\n",
        "\n",
        "r2_score_test = r2_score(y_test,y_pred_rbf)\n",
        "print('R^2 test: '+str(r2_score_test))"
      ],
      "execution_count": 19,
      "outputs": [
        {
          "output_type": "stream",
          "text": [
            "R^2 train: 0.9225554687024862\n",
            "R^2 test: 0.9192028543564328\n"
          ],
          "name": "stdout"
        }
      ]
    },
    {
      "cell_type": "markdown",
      "metadata": {
        "id": "X07OlgLqnlkk"
      },
      "source": [
        "### **Guardar el modelo**"
      ]
    },
    {
      "cell_type": "code",
      "metadata": {
        "colab": {
          "base_uri": "https://localhost:8080/"
        },
        "id": "uNnYqcPy-hEM",
        "outputId": "4b5e7884-db61-4d1d-a56b-8d6930b37c55"
      },
      "source": [
        "#Guardamos el modelo para que este persista\n",
        "import joblib\n",
        "\n",
        "filename = 'modelo_rbf.pkl'\n",
        "joblib.dump(svr_rbf, filename)"
      ],
      "execution_count": 20,
      "outputs": [
        {
          "output_type": "execute_result",
          "data": {
            "text/plain": [
              "['modelo_rbf.pkl']"
            ]
          },
          "metadata": {
            "tags": []
          },
          "execution_count": 20
        }
      ]
    },
    {
      "cell_type": "code",
      "metadata": {
        "colab": {
          "base_uri": "https://localhost:8080/"
        },
        "id": "3qWXtwa---K6",
        "outputId": "3153d524-a5a0-4fc2-9a38-d8c4a8ac6f2d"
      },
      "source": [
        "#Cargamos el modelo guardado y verificamos su correcto funcionamiento\n",
        "loaded_model = joblib.load(filename)\n",
        "y_load = loaded_model.predict(x_test)\n",
        "\n",
        "print(r2_score(y_test, y_load))"
      ],
      "execution_count": 21,
      "outputs": [
        {
          "output_type": "stream",
          "text": [
            "0.9192028543564328\n"
          ],
          "name": "stdout"
        }
      ]
    }
  ]
}